{
 "cells": [
  {
   "cell_type": "code",
   "execution_count": 1,
   "id": "fdc6e825",
   "metadata": {},
   "outputs": [],
   "source": [
    "import pandas as pd\n",
    "import numpy as np\n",
    "import scipy\n",
    "import matplotlib as mpl\n",
    "import matplotlib.pyplot as plt\n",
    "import seaborn as sns\n",
    "from statsmodels.stats.multitest import multipletests\n",
    "import statsmodels.stats.multicomp as multicomp"
   ]
  },
  {
   "cell_type": "code",
   "execution_count": 2,
   "id": "bed1ebc2",
   "metadata": {},
   "outputs": [],
   "source": [
    "data_df = pd.read_excel('../data/42255_2025_1311_MOESM4_ESM.xlsx', sheet_name='1J')"
   ]
  },
  {
   "cell_type": "code",
   "execution_count": 4,
   "id": "5bd3da89",
   "metadata": {},
   "outputs": [],
   "source": [
    "grp1, grp2, grp3 = data_df['HFD'].dropna().values, data_df['HFD+SAL'].dropna().values, data_df['HFD+SANA'].dropna().values"
   ]
  },
  {
   "cell_type": "code",
   "execution_count": 5,
   "id": "280172f4",
   "metadata": {},
   "outputs": [],
   "source": [
    "collect = [grp1, grp2, grp3]"
   ]
  },
  {
   "cell_type": "code",
   "execution_count": 6,
   "id": "0a2d070b",
   "metadata": {},
   "outputs": [
    {
     "data": {
      "text/plain": [
       "24"
      ]
     },
     "execution_count": 6,
     "metadata": {},
     "output_type": "execute_result"
    }
   ],
   "source": [
    "len(np.concatenate([grp1, grp2, grp3]))"
   ]
  },
  {
   "cell_type": "code",
   "execution_count": 7,
   "id": "be6af7e1",
   "metadata": {},
   "outputs": [
    {
     "data": {
      "text/plain": [
       "F_onewayResult(statistic=15.127670752029875, pvalue=8.531820585519195e-05)"
      ]
     },
     "execution_count": 7,
     "metadata": {},
     "output_type": "execute_result"
    }
   ],
   "source": [
    "scipy.stats.f_oneway(grp1, grp2, grp3)"
   ]
  },
  {
   "cell_type": "code",
   "execution_count": 8,
   "id": "fd1dd52d",
   "metadata": {},
   "outputs": [
    {
     "data": {
      "text/html": [
       "<table class=\"simpletable\">\n",
       "<caption>Test Multiple Comparison ttest_ind \n",
       "FWER=0.05 method=bonf\n",
       "alphacSidak=0.02, alphacBonf=0.017</caption>\n",
       "<tr>\n",
       "  <th>group1</th>   <th>group2</th>   <th>stat</th>    <th>pval</th>  <th>pval_corr</th> <th>reject</th>\n",
       "</tr>\n",
       "<tr>\n",
       "    <td>HFD</td>    <td>HFD+SAL</td> <td>-1.7969</td>  <td>0.094</td>  <td>0.2819</td>    <td>False</td>\n",
       "</tr>\n",
       "<tr>\n",
       "    <td>HFD</td>   <td>HFD+SANA</td> <td>3.0714</td>  <td>0.0083</td>  <td>0.0249</td>    <td>True</td> \n",
       "</tr>\n",
       "<tr>\n",
       "  <td>HFD+SAL</td> <td>HFD+SANA</td> <td>6.7789</td>    <td>0.0</td>     <td>0.0</td>     <td>True</td> \n",
       "</tr>\n",
       "</table>"
      ],
      "text/plain": [
       "<class 'statsmodels.iolib.table.SimpleTable'>"
      ]
     },
     "execution_count": 8,
     "metadata": {},
     "output_type": "execute_result"
    }
   ],
   "source": [
    "comp = multicomp.MultiComparison(data=np.concatenate([grp1, grp2, grp3]), \n",
    "                                  groups=np.concatenate([['HFD']*len(grp1), \n",
    "                                                         ['HFD+SAL']*len(grp2), \n",
    "                                                         ['HFD+SANA']*len(grp3)]))\n",
    "tbl, a1, a2 = comp.allpairtest(scipy.stats.ttest_ind, method= \"bonf\", alpha=0.05)\n",
    "tbl"
   ]
  },
  {
   "cell_type": "code",
   "execution_count": 13,
   "id": "a9ada962",
   "metadata": {},
   "outputs": [
    {
     "data": {
      "text/plain": [
       "(array([[-1.79686067e+00,  9.39579489e-02],\n",
       "        [ 3.07142529e+00,  8.28967390e-03],\n",
       "        [ 6.77889490e+00,  8.89453119e-06]]),\n",
       " array([False,  True,  True]),\n",
       " array([2.81873847e-01, 2.48690217e-02, 2.66835936e-05]),\n",
       " 0.016952427508441503,\n",
       " 0.016666666666666666)"
      ]
     },
     "execution_count": 13,
     "metadata": {},
     "output_type": "execute_result"
    }
   ],
   "source": [
    "a1"
   ]
  },
  {
   "cell_type": "code",
   "execution_count": 14,
   "id": "e4d1ed9c",
   "metadata": {},
   "outputs": [
    {
     "data": {
      "text/plain": [
       "array([[1.00000000e+00, 2.01905784e-01, 4.38144328e-03],\n",
       "       [2.01905784e-01, 1.00000000e+00, 6.77500255e-05],\n",
       "       [4.38144328e-03, 6.77500255e-05, 1.00000000e+00]])"
      ]
     },
     "execution_count": 14,
     "metadata": {},
     "output_type": "execute_result"
    }
   ],
   "source": [
    "scipy.stats.tukey_hsd(*[grp1, grp2, grp3]).pvalue"
   ]
  },
  {
   "cell_type": "markdown",
   "id": "8cbc5ea1",
   "metadata": {},
   "source": [
    "Here is Figure 1J:\n",
    "\n",
    "![file](../img/pub_fig_1j.png)\n",
    "\n",
    "This is described as involving a one-way ANOVA followed by Bonferroni post-hoc. Using the [source data](https://www.nature.com/articles/s42255-025-01311-z#Sec38) for this figure, we arrive at F(2, 21) = 15.1, p = 8.53E-5, which supports the authors' statement that treatment did not affect digested energy. However, the p-values for the post-hoc test appear to be wrong for Bonferroni post-hoc comparison (i.e., independent t-tests between groups and Bonferroni FWER correction on p-values for each pairwise test). The p-values shown here instead match the expected output of Tukey's post-hoc test, although with some inconsistencies in rounding.\n",
    "\n",
    "| Comparison | Published p-value | Bonferroni p-value | Tukey p-value |\n",
    "| -- | --- | --- | --- |\n",
    "| HFD vs HFD+SANA | 0.0044 | 0.0249 | 0.00438 |\n",
    "| HFD vs HFD+SAL | 0.2019 | 0.282 | 0.2019 |\n",
    "|  HFD+SAL vs HFD+SANA | 0.00008|||\n",
    "\n",
    "Could the authors clarify? \n",
    "\n",
    "The code for this analysis is available at [github.com/reeserich/cal_et_al_2025](https://github.com/reeserich/cal_et_al_2025)."
   ]
  },
  {
   "cell_type": "code",
   "execution_count": null,
   "id": "9b092f13",
   "metadata": {},
   "outputs": [],
   "source": []
  }
 ],
 "metadata": {
  "kernelspec": {
   "display_name": "Python 3 (ipykernel)",
   "language": "python",
   "name": "python3"
  },
  "language_info": {
   "codemirror_mode": {
    "name": "ipython",
    "version": 3
   },
   "file_extension": ".py",
   "mimetype": "text/x-python",
   "name": "python",
   "nbconvert_exporter": "python",
   "pygments_lexer": "ipython3",
   "version": "3.9.12"
  }
 },
 "nbformat": 4,
 "nbformat_minor": 5
}
