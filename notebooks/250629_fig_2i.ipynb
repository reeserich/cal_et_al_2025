{
 "cells": [
  {
   "cell_type": "code",
   "execution_count": 1,
   "id": "aa81fbf8",
   "metadata": {},
   "outputs": [],
   "source": [
    "import pandas as pd\n",
    "import numpy as np\n",
    "import scipy\n",
    "import matplotlib as mpl\n",
    "import matplotlib.pyplot as plt\n",
    "import seaborn as sns\n",
    "from statsmodels.stats.multitest import multipletests\n",
    "import statsmodels.stats.multicomp as multicomp"
   ]
  },
  {
   "cell_type": "code",
   "execution_count": 2,
   "id": "c762ab82",
   "metadata": {},
   "outputs": [],
   "source": [
    "data_df = pd.read_excel('../data/42255_2025_1311_MOESM5_ESM.xlsx', sheet_name='2I')"
   ]
  },
  {
   "cell_type": "code",
   "execution_count": 5,
   "id": "7ce78cb8",
   "metadata": {},
   "outputs": [],
   "source": [
    "data_df = data_df.set_index('Time (min)')"
   ]
  },
  {
   "cell_type": "code",
   "execution_count": 6,
   "id": "f5d50d66",
   "metadata": {},
   "outputs": [
    {
     "data": {
      "text/plain": [
       "Index(['HFD', 'HFD.1', 'HFD.2', 'HFD.3', 'HFD.4', 'HFD.5', 'HFD.6', 'HFD+SAL ',\n",
       "       'HFD+SAL .1', 'HFD+SAL .2', 'HFD+SAL .3', 'HFD+SAL .4', 'HFD+SAL .5',\n",
       "       'HFD+SAL .6', 'HFD+SAL .7', 'HFD+SANA', 'HFD+SANA.1', 'HFD+SANA.2',\n",
       "       'HFD+SANA.3', 'HFD+SANA.4', 'HFD+SANA.5', 'HFD+SANA.6', 'HFD+SANA.7'],\n",
       "      dtype='object')"
      ]
     },
     "execution_count": 6,
     "metadata": {},
     "output_type": "execute_result"
    }
   ],
   "source": [
    "data_df.columns"
   ]
  },
  {
   "cell_type": "code",
   "execution_count": 7,
   "id": "a7bbf507",
   "metadata": {},
   "outputs": [],
   "source": [
    "hfd = ['HFD', 'HFD.1', 'HFD.2', 'HFD.3', 'HFD.4', 'HFD.5', 'HFD.6']\n",
    "hfd_sal = ['HFD+SAL ',\n",
    "       'HFD+SAL .1', 'HFD+SAL .2', 'HFD+SAL .3', 'HFD+SAL .4', 'HFD+SAL .5',\n",
    "       'HFD+SAL .6', 'HFD+SAL .7']\n",
    "hfd_sana = ['HFD+SANA', 'HFD+SANA.1', 'HFD+SANA.2',\n",
    "       'HFD+SANA.3', 'HFD+SANA.4', 'HFD+SANA.5', 'HFD+SANA.6', 'HFD+SANA.7']"
   ]
  },
  {
   "cell_type": "code",
   "execution_count": 8,
   "id": "c6815431",
   "metadata": {},
   "outputs": [],
   "source": [
    "def reorder_label(label):\n",
    "    if label[-2:] == 'ND':\n",
    "        return 'ND vs ' + label.split('vs')[0].strip()\n",
    "    else:\n",
    "        return label"
   ]
  },
  {
   "cell_type": "code",
   "execution_count": 11,
   "id": "4c82a758",
   "metadata": {},
   "outputs": [
    {
     "name": "stdout",
     "output_type": "stream",
     "text": [
      "0.0\n",
      "N samples: 23\n",
      "ANOVA:\n",
      "F(2, 20) = 22.47340432496081, p = 7.668700918878939e-06\n",
      "| Comparison          | Published p-value   |   Bonferroni p-value |   Tukey p-value |\n",
      "|:--------------------|:--------------------|---------------------:|----------------:|\n",
      "| HFD vs HFD+SAL      |                     |          0.0939872   |     0.0256438   |\n",
      "| HFD vs HFD+SANA     |                     |          1.78268e-05 |     5.12947e-06 |\n",
      "| HFD+SAL vs HFD+SANA |                     |          0.00173111  |     0.00225027  |\n",
      "0.6519314857142857\n",
      "0.44698865000000004\n",
      "0.1735\n",
      "10.0\n",
      "N samples: 23\n",
      "ANOVA:\n",
      "F(2, 20) = 5.80907327005915, p = 0.010255005017877423\n",
      "| Comparison          | Published p-value   |   Bonferroni p-value |   Tukey p-value |\n",
      "|:--------------------|:--------------------|---------------------:|----------------:|\n",
      "| HFD vs HFD+SAL      |                     |            0.967143  |       0.439358  |\n",
      "| HFD vs HFD+SANA     |                     |            0.0220716 |       0.0085799 |\n",
      "| HFD+SAL vs HFD+SANA |                     |            0.0181864 |       0.100468  |\n",
      "0.9932546142857143\n",
      "0.7398949125000001\n",
      "0.3139125\n",
      "30.0\n",
      "N samples: 23\n",
      "ANOVA:\n",
      "F(2, 20) = 2.782426378298673, p = 0.08587504933726714\n",
      "| Comparison          | Published p-value   |   Bonferroni p-value |   Tukey p-value |\n",
      "|:--------------------|:--------------------|---------------------:|----------------:|\n",
      "| HFD vs HFD+SAL      |                     |             0.918638 |        0.430071 |\n",
      "| HFD vs HFD+SANA     |                     |             0.190673 |        0.070368 |\n",
      "| HFD+SAL vs HFD+SANA |                     |             0.161897 |        0.506465 |\n",
      "0.9581608671428572\n",
      "0.6227031875\n",
      "0.333\n"
     ]
    }
   ],
   "source": [
    "for cat in data_df.index:\n",
    "    \n",
    "    print(cat)\n",
    "    grp1, grp2, grp3 =  data_df[hfd].loc[cat].dropna().values, \\\n",
    "                        data_df[hfd_sal].loc[cat].dropna().values, \\\n",
    "                        data_df[hfd_sana].loc[cat].dropna().values\n",
    "\n",
    "    collect = [grp1, grp2, grp3]\n",
    "    print('N samples: ' + str(len(np.concatenate(collect))))\n",
    "\n",
    "    print('ANOVA:')\n",
    "    f = scipy.stats.f_oneway(grp1, grp2, grp3)\n",
    "    print('F(2, ' + str(len(np.concatenate(collect))-3) + ') = ' + str(f.statistic) + ', p = ' + str(f.pvalue))\n",
    "\n",
    "    #print('Bonferroni:')\n",
    "    comp = multicomp.MultiComparison(data=np.concatenate(collect), \n",
    "                                      groups=np.concatenate([['HFD']*len(grp1), \n",
    "                                                             ['HFD+SAL']*len(grp2), \n",
    "                                                             ['HFD+SANA']*len(grp3)]))\n",
    "    tbl, a1, a2 = comp.allpairtest(scipy.stats.ttest_ind, method= \"bonf\", alpha=0.05)\n",
    "    bonf = pd.DataFrame(tbl)\n",
    "    bonf.columns = bonf.loc[0].astype(str)\n",
    "    bonf = bonf[1:]\n",
    "    bonf['pval_corr'] = a1[2]\n",
    "    bonf['g1'] = bonf['group1']\n",
    "    bonf['g2'] = bonf['group2']\n",
    "    bonf_df = bonf.copy()\n",
    "    bonf_df['Bonferroni p-value'] = bonf_df['pval_corr']\n",
    "    bonf_df['Comparison'] = bonf_df['g1'].astype(str) + ' vs ' + bonf_df['g2'].astype(str)\n",
    "    bonf_df['Comparison'] = bonf_df['Comparison'].apply(reorder_label)\n",
    "\n",
    "    #print('Tukey:')\n",
    "    tukey = scipy.stats.tukey_hsd(*collect).pvalue\n",
    "    tukey_df = pd.DataFrame({'g1':['HFD', 'HFD', 'HFD+SAL'], \n",
    "     'g2':['HFD+SAL', 'HFD+SANA', 'HFD+SANA'],\n",
    "     'Tukey p-value':[tukey[0][1], tukey[0][2], tukey[1][2]]})\n",
    "    tukey_df['Comparison'] = tukey_df['g1'].astype(str) + ' vs ' + tukey_df['g2'].astype(str)\n",
    "\n",
    "    combo_df = pd.merge(bonf_df, tukey_df, on=['Comparison'], how='outer')\n",
    "    combo_df['Published p-value'] = ''\n",
    "    combo_df = combo_df[['Comparison', 'Published p-value', 'Bonferroni p-value', 'Tukey p-value']].set_index('Comparison')\n",
    "    print(combo_df.to_markdown())\n",
    "    \n",
    "    for grp in collect:\n",
    "        print(np.mean(grp))"
   ]
  },
  {
   "cell_type": "code",
   "execution_count": 10,
   "id": "b1ec8a7d",
   "metadata": {},
   "outputs": [
    {
     "data": {
      "text/html": [
       "<table class=\"simpletable\">\n",
       "<caption>Test Multiple Comparison ttest_ind \n",
       "FWER=0.05 method=bonf\n",
       "alphacSidak=0.02, alphacBonf=0.017</caption>\n",
       "<tr>\n",
       "  <th>group1</th>   <th>group2</th>   <th>stat</th>   <th>pval</th>  <th>pval_corr</th> <th>reject</th>\n",
       "</tr>\n",
       "<tr>\n",
       "    <td>HFD</td>    <td>HFD+SAL</td> <td>2.4127</td> <td>0.0313</td>   <td>0.094</td>    <td>False</td>\n",
       "</tr>\n",
       "<tr>\n",
       "    <td>HFD</td>   <td>HFD+SANA</td> <td>7.3071</td>   <td>0.0</td>     <td>0.0</td>     <td>True</td> \n",
       "</tr>\n",
       "<tr>\n",
       "  <td>HFD+SAL</td> <td>HFD+SANA</td> <td>4.4244</td> <td>0.0006</td>  <td>0.0017</td>    <td>True</td> \n",
       "</tr>\n",
       "</table>"
      ],
      "text/plain": [
       "<class 'statsmodels.iolib.table.SimpleTable'>"
      ]
     },
     "execution_count": 10,
     "metadata": {},
     "output_type": "execute_result"
    }
   ],
   "source": [
    "tbl"
   ]
  },
  {
   "cell_type": "markdown",
   "id": "19dd08f9",
   "metadata": {},
   "source": [
    "Here is Figure 2I:\n",
    "\n",
    "![file](../img/pub_fig_2i.png)\n",
    "\n",
    "The statistical procedure used for this panel is not described in the caption. I'll assume that a one-way ANOVA was performed for each group within 0 min, 10 min and 30 min and that either Bonferroni or Tukey post-hoc procedure was performed. Using the [source data](https://www.nature.com/articles/s42255-025-01311-z#Sec38) for this figure, all of these p-values are incorrect both for Bonferroni post-hoc comparison (i.e., independent t-tests between groups and Bonferroni FWER correction on p-values for each pairwise test) and for Tukey's post-hoc test. See summary stats below.\n",
    "\n",
    "### 0 min\n",
    "\n",
    "N samples: 23\n",
    "ANOVA:\n",
    "F(2, 20) = 22.5, p = 7.67E-6\n",
    "\n",
    "| Comparison          | Published p-value   |   Bonferroni p-value |   Tukey p-value |\n",
    "|:--------------------|:--------------------|---------------------:|----------------:|\n",
    "| HFD vs HFD+SAL      |             0.08        |          0.0940   |     0.0256   |\n",
    "| HFD vs HFD+SANA     |               0.0003      |          1.783e-05 |     5.13E-6 |\n",
    "| HFD+SAL vs HFD+SANA |              0.004       |          0.00173  |     0.00225  |\n",
    "\n",
    "### 10 min\n",
    "\n",
    "N samples: 23\n",
    "ANOVA:\n",
    "F(2, 20) = 5.81, p = 0.0103\n",
    "\n",
    "| Comparison          | Published p-value   |   Bonferroni p-value |   Tukey p-value |\n",
    "|:--------------------|:--------------------|---------------------:|----------------:|\n",
    "| HFD vs HFD+SAL      |            0.60         |            0.967  |       0.439  |\n",
    "| HFD vs HFD+SANA     |           0.03          |            0.0221 |       0.00858 |\n",
    "| HFD+SAL vs HFD+SANA |             0.052        |            0.0182 |       0.100  |\n",
    "\n",
    "### 30 min\n",
    "\n",
    "N samples: 23\n",
    "ANOVA:\n",
    "F(2, 20) = 2.78, p = 0.0859\n",
    "\n",
    "| Comparison          | Published p-value   |   Bonferroni p-value |   Tukey p-value |\n",
    "|:--------------------|:--------------------|---------------------:|----------------:|\n",
    "| HFD vs HFD+SAL      |              0.59       |             0.919 |        0.430 |\n",
    "| HFD vs HFD+SANA     |            0.21         |             0.191 |        0.0704 |\n",
    "| HFD+SAL vs HFD+SANA |               0.13      |             0.162 |        0.506 |\n",
    "\n",
    "Could the authors clarify? Could the authors also comment on why they exclude normal diet (ND) as an experimental condition in this analysis?\n",
    "\n",
    "The code for this analysis is available at [github.com/reeserich/cal_et_al_2025](https://github.com/reeserich/cal_et_al_2025)."
   ]
  },
  {
   "cell_type": "code",
   "execution_count": 14,
   "id": "1cd9953a",
   "metadata": {},
   "outputs": [
    {
     "data": {
      "text/html": [
       "<table class=\"simpletable\">\n",
       "<caption>Test Multiple Comparison ttest_ind \n",
       "FWER=0.05 method=bonf\n",
       "alphacSidak=0.02, alphacBonf=0.017</caption>\n",
       "<tr>\n",
       "  <th>group1</th>   <th>group2</th>   <th>stat</th>   <th>pval</th>  <th>pval_corr</th> <th>reject</th>\n",
       "</tr>\n",
       "<tr>\n",
       "    <td>HFD</td>    <td>HFD+SAL</td> <td>1.0651</td> <td>0.3062</td>  <td>0.9186</td>    <td>False</td>\n",
       "</tr>\n",
       "<tr>\n",
       "    <td>HFD</td>   <td>HFD+SANA</td> <td>2.0281</td> <td>0.0636</td>  <td>0.1907</td>    <td>False</td>\n",
       "</tr>\n",
       "<tr>\n",
       "  <td>HFD+SAL</td> <td>HFD+SANA</td> <td>2.1037</td>  <td>0.054</td>  <td>0.1619</td>    <td>False</td>\n",
       "</tr>\n",
       "</table>"
      ],
      "text/plain": [
       "<class 'statsmodels.iolib.table.SimpleTable'>"
      ]
     },
     "execution_count": 14,
     "metadata": {},
     "output_type": "execute_result"
    }
   ],
   "source": [
    "tbl"
   ]
  },
  {
   "cell_type": "code",
   "execution_count": null,
   "id": "ab68d3e1",
   "metadata": {},
   "outputs": [],
   "source": []
  }
 ],
 "metadata": {
  "kernelspec": {
   "display_name": "Python 3 (ipykernel)",
   "language": "python",
   "name": "python3"
  },
  "language_info": {
   "codemirror_mode": {
    "name": "ipython",
    "version": 3
   },
   "file_extension": ".py",
   "mimetype": "text/x-python",
   "name": "python",
   "nbconvert_exporter": "python",
   "pygments_lexer": "ipython3",
   "version": "3.9.12"
  }
 },
 "nbformat": 4,
 "nbformat_minor": 5
}
