{
 "cells": [
  {
   "cell_type": "code",
   "execution_count": 1,
   "id": "c7b51ea3",
   "metadata": {},
   "outputs": [],
   "source": [
    "import pandas as pd\n",
    "import numpy as np\n",
    "import scipy\n",
    "import matplotlib as mpl\n",
    "import matplotlib.pyplot as plt\n",
    "import seaborn as sns\n",
    "from statsmodels.stats.multitest import multipletests\n",
    "import statsmodels.stats.multicomp as multicomp"
   ]
  },
  {
   "cell_type": "code",
   "execution_count": 2,
   "id": "701b8a58",
   "metadata": {},
   "outputs": [],
   "source": [
    "data_df = pd.read_excel('../data/42255_2025_1311_MOESM5_ESM.xlsx', sheet_name='2D')"
   ]
  },
  {
   "cell_type": "code",
   "execution_count": 4,
   "id": "8dd18a84",
   "metadata": {},
   "outputs": [],
   "source": [
    "data_df = data_df.set_index('Hepatic Transaminases (U/L)')"
   ]
  },
  {
   "cell_type": "code",
   "execution_count": 5,
   "id": "81e0944b",
   "metadata": {},
   "outputs": [
    {
     "data": {
      "text/plain": [
       "Index(['ND', 'ND.1', 'ND.2', 'ND.3', 'ND.4', 'HFD', 'HFD.1', 'HFD.2', 'HFD.3',\n",
       "       'HFD.4', 'HFD.5', 'HFD.6', 'HFD.7', 'HFD.8', 'HFD+SAL', 'HFD+SAL.1',\n",
       "       'HFD+SAL.2', 'HFD+SAL.3', 'HFD+SAL.4', 'HFD+SAL.5', 'HFD+SAL.6',\n",
       "       'HFD+SAL.7', 'HFD+SAL.8', 'HFD+SANA', 'HFD+SANA.1', 'HFD+SANA.2',\n",
       "       'HFD+SANA.3', 'HFD+SANA.4', 'HFD+SANA.5', 'HFD+SANA.6'],\n",
       "      dtype='object')"
      ]
     },
     "execution_count": 5,
     "metadata": {},
     "output_type": "execute_result"
    }
   ],
   "source": [
    "data_df.columns"
   ]
  },
  {
   "cell_type": "code",
   "execution_count": 6,
   "id": "443167d0",
   "metadata": {},
   "outputs": [],
   "source": [
    "nd = ['ND', 'ND.1', 'ND.2', 'ND.3', 'ND.4']\n",
    "hfd = ['HFD', 'HFD.1', 'HFD.2', 'HFD.3',\n",
    "       'HFD.4', 'HFD.5', 'HFD.6', 'HFD.7', 'HFD.8']\n",
    "hfd_sal = ['HFD+SAL', 'HFD+SAL.1',\n",
    "       'HFD+SAL.2', 'HFD+SAL.3', 'HFD+SAL.4', 'HFD+SAL.5', 'HFD+SAL.6',\n",
    "       'HFD+SAL.7', 'HFD+SAL.8']\n",
    "hfd_sana = ['HFD+SANA', 'HFD+SANA.1', 'HFD+SANA.2',\n",
    "       'HFD+SANA.3', 'HFD+SANA.4', 'HFD+SANA.5', 'HFD+SANA.6']"
   ]
  },
  {
   "cell_type": "code",
   "execution_count": 8,
   "id": "29bff775",
   "metadata": {},
   "outputs": [],
   "source": [
    "def reorder_label(label):\n",
    "    if label[-2:] == 'ND':\n",
    "        return 'ND vs ' + label.split('vs')[0].strip()\n",
    "    else:\n",
    "        return label"
   ]
  },
  {
   "cell_type": "code",
   "execution_count": 11,
   "id": "8b2c755d",
   "metadata": {},
   "outputs": [
    {
     "name": "stdout",
     "output_type": "stream",
     "text": [
      "ALT\n",
      "N samples: 30\n",
      "ANOVA:\n",
      "F(3, 26) = 36.41630455831537, p = 1.857143960468119e-09\n",
      "| Comparison          | Published p-value   |   Bonferroni p-value |   Tukey p-value |\n",
      "|:--------------------|:--------------------|---------------------:|----------------:|\n",
      "| HFD vs HFD+SAL      |                     |          1           |     0.662792    |\n",
      "| HFD vs HFD+SANA     |                     |          6.06159e-06 |     6.24178e-08 |\n",
      "| ND vs HFD           |                     |          8.27776e-05 |     3.93916e-07 |\n",
      "| HFD+SAL vs HFD+SANA |                     |          1.64104e-05 |     8.05942e-07 |\n",
      "| ND vs HFD+SAL       |                     |          0.000185198 |     4.32789e-06 |\n",
      "| ND vs HFD+SANA      |                     |          1           |     0.999999    |\n",
      "52.0\n",
      "581.5555555555555\n",
      "512.3333333333334\n",
      "52.857142857142854\n",
      "AST\n",
      "N samples: 30\n",
      "ANOVA:\n",
      "F(3, 26) = 25.636157776915564, p = 6.256739692291728e-08\n",
      "| Comparison          | Published p-value   |   Bonferroni p-value |   Tukey p-value |\n",
      "|:--------------------|:--------------------|---------------------:|----------------:|\n",
      "| HFD vs HFD+SAL      |                     |          1           |     0.910758    |\n",
      "| HFD vs HFD+SANA     |                     |          6.87886e-05 |     9.09107e-07 |\n",
      "| ND vs HFD           |                     |          0.00117955  |     3.18449e-05 |\n",
      "| HFD+SAL vs HFD+SANA |                     |          3.93956e-05 |     4.22554e-06 |\n",
      "| ND vs HFD+SAL       |                     |          0.000670128 |     0.000135767 |\n",
      "| ND vs HFD+SANA      |                     |          1           |     0.899768    |\n",
      "172.6\n",
      "551.2222222222222\n",
      "514.0\n",
      "124.28571428571429\n"
     ]
    }
   ],
   "source": [
    "for cat in data_df.index:\n",
    "    \n",
    "    print(cat)\n",
    "    grp1, grp2, grp3, grp4 = data_df[nd].loc[cat].dropna().values, \\\n",
    "                        data_df[hfd].loc[cat].dropna().values, \\\n",
    "                        data_df[hfd_sal].loc[cat].dropna().values, \\\n",
    "                        data_df[hfd_sana].loc[cat].dropna().values\n",
    "\n",
    "    collect = [grp1, grp2, grp3, grp4]\n",
    "    print('N samples: ' + str(len(np.concatenate(collect))))\n",
    "\n",
    "    print('ANOVA:')\n",
    "    f = scipy.stats.f_oneway(grp1, grp2, grp3, grp4)\n",
    "    print('F(3, ' + str(len(np.concatenate(collect))-4) + ') = ' + str(f.statistic) + ', p = ' + str(f.pvalue))\n",
    "\n",
    "    #print('Bonferroni:')\n",
    "    comp = multicomp.MultiComparison(data=np.concatenate(collect), \n",
    "                                      groups=np.concatenate([['ND']*len(grp1), \n",
    "                                                             ['HFD']*len(grp2), \n",
    "                                                             ['HFD+SAL']*len(grp3), \n",
    "                                                             ['HFD+SANA']*len(grp4)]))\n",
    "    tbl, a1, a2 = comp.allpairtest(scipy.stats.ttest_ind, method= \"bonf\", alpha=0.05)\n",
    "    bonf = pd.DataFrame(tbl)\n",
    "    bonf.columns = bonf.loc[0].astype(str)\n",
    "    bonf = bonf[1:]\n",
    "    bonf['pval_corr'] = a1[2]\n",
    "    bonf['g1'] = bonf['group1']\n",
    "    bonf['g2'] = bonf['group2']\n",
    "    bonf_df = bonf.copy()\n",
    "    bonf_df['Bonferroni p-value'] = bonf_df['pval_corr']\n",
    "    bonf_df['Comparison'] = bonf_df['g1'].astype(str) + ' vs ' + bonf_df['g2'].astype(str)\n",
    "    bonf_df['Comparison'] = bonf_df['Comparison'].apply(reorder_label)\n",
    "\n",
    "    #print('Tukey:')\n",
    "    tukey = scipy.stats.tukey_hsd(*collect).pvalue\n",
    "    tukey_df = pd.DataFrame({'g1':['ND', 'ND', 'ND', 'HFD', 'HFD', 'HFD+SAL'], \n",
    "     'g2':['HFD', 'HFD+SAL', 'HFD+SANA', 'HFD+SAL', 'HFD+SANA', 'HFD+SANA'],\n",
    "     'Tukey p-value':[tukey[0][1], tukey[0][2], tukey[0][3], tukey[1][2], tukey[1][3], tukey[2][3]]})\n",
    "    tukey_df['Comparison'] = tukey_df['g1'].astype(str) + ' vs ' + tukey_df['g2'].astype(str)\n",
    "\n",
    "    combo_df = pd.merge(bonf_df, tukey_df, on=['Comparison'], how='outer')\n",
    "    combo_df['Published p-value'] = ''\n",
    "    combo_df = combo_df[['Comparison', 'Published p-value', 'Bonferroni p-value', 'Tukey p-value']].set_index('Comparison')\n",
    "    print(combo_df.to_markdown())\n",
    "    \n",
    "    for grp in collect:\n",
    "        print(np.mean(grp))"
   ]
  },
  {
   "cell_type": "markdown",
   "id": "bac1d4af",
   "metadata": {},
   "source": [
    "Here is Figure 2D:\n",
    "\n",
    "![file](../img/pub_fig_2d.png)\n",
    "\n",
    "This is described as involving a one-way ANOVA followed by Bonferroni post-hoc. I'll assume that a one-way ANOVA was performed for each group within ALT and separately for AST. Using the [source data](https://www.nature.com/articles/s42255-025-01311-z#Sec38) for this figure, most of these p-values are incorrect both for Bonferroni post-hoc comparison (i.e., independent t-tests between groups and Bonferroni FWER correction on p-values for each pairwise test) and for Tukey's post-hoc test. See summary stats below.\n",
    "\n",
    "### ALT\n",
    "N samples: 30\n",
    "ANOVA:\n",
    "F(3, 26) = 36.4, p = 1.86E-9\n",
    "\n",
    "| Comparison          | Published p-value   |   Bonferroni p-value |   Tukey p-value |\n",
    "|:--------------------|:--------------------|---------------------:|----------------:|\n",
    "| HFD vs HFD+SAL      |              0.64       |          1.00           |     0.663    |\n",
    "| HFD vs HFD+SANA     |             Not shown        |          6.06E-6 |     6.24E-8 |\n",
    "| ND vs HFD           |             0.00007 (7E-5)        |          8.28E-5 |     3.94E-7 |\n",
    "| HFD+SAL vs HFD+SANA |                0.00008 (8E-5)     |          1.64E-5 |     8.06E-7 |\n",
    "| ND vs HFD+SAL       |            Not shown         |          0.000185 |     4.33E-6 |\n",
    "| ND vs HFD+SANA      |              Not shown       |          1.00           |     1.00    |\n",
    "\n",
    "### AST\n",
    "N samples: 30\n",
    "ANOVA:\n",
    "F(3, 26) = 25.6, p = 6.26E-8\n",
    "\n",
    "| Comparison          | Published p-value   |   Bonferroni p-value |   Tukey p-value |\n",
    "|:--------------------|:--------------------|---------------------:|----------------:|\n",
    "| HFD vs HFD+SAL      |           0.91          |          1.00           |     0.911    |\n",
    "| HFD vs HFD+SANA     |            Not shown         |          6.88E-5 |     9.09E-7 |\n",
    "| ND vs HFD           |          0.00009           |          0.00118  |     3.18E-5 |\n",
    "| HFD+SAL vs HFD+SANA |               0.00007      |          3.94E-5 |     4.23E-6 |\n",
    "| ND vs HFD+SAL       |              Not shown       |          0.000670 |     0.000136 |\n",
    "| ND vs HFD+SANA      |             Not shown        |          1           |     0.900    |\n",
    "\n",
    "Could the authors clarify? \n",
    "\n",
    "The code for this analysis is available at [github.com/reeserich/cal_et_al_2025](https://github.com/reeserich/cal_et_al_2025)."
   ]
  },
  {
   "cell_type": "code",
   "execution_count": null,
   "id": "8837ca3c",
   "metadata": {},
   "outputs": [],
   "source": []
  }
 ],
 "metadata": {
  "kernelspec": {
   "display_name": "Python 3 (ipykernel)",
   "language": "python",
   "name": "python3"
  },
  "language_info": {
   "codemirror_mode": {
    "name": "ipython",
    "version": 3
   },
   "file_extension": ".py",
   "mimetype": "text/x-python",
   "name": "python",
   "nbconvert_exporter": "python",
   "pygments_lexer": "ipython3",
   "version": "3.9.12"
  }
 },
 "nbformat": 4,
 "nbformat_minor": 5
}
