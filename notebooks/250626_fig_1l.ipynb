{
 "cells": [
  {
   "cell_type": "code",
   "execution_count": 1,
   "id": "ffee5c38",
   "metadata": {},
   "outputs": [],
   "source": [
    "import pandas as pd\n",
    "import numpy as np\n",
    "import scipy\n",
    "import matplotlib as mpl\n",
    "import matplotlib.pyplot as plt\n",
    "import seaborn as sns\n",
    "from statsmodels.stats.multitest import multipletests\n",
    "import statsmodels.stats.multicomp as multicomp"
   ]
  },
  {
   "cell_type": "code",
   "execution_count": 5,
   "id": "40afa506",
   "metadata": {},
   "outputs": [],
   "source": [
    "data_df = pd.read_excel('../data/42255_2025_1311_MOESM4_ESM.xlsx', sheet_name='1L')"
   ]
  },
  {
   "cell_type": "code",
   "execution_count": 6,
   "id": "4c6b2bec",
   "metadata": {},
   "outputs": [],
   "source": [
    "grp1, grp2, grp3 = data_df['HFD'].dropna().values, data_df['HFD+SAL'].dropna().values, data_df['HFD+SANA'].dropna().values"
   ]
  },
  {
   "cell_type": "code",
   "execution_count": 7,
   "id": "9e717add",
   "metadata": {},
   "outputs": [],
   "source": [
    "collect = [grp1, grp2, grp3]"
   ]
  },
  {
   "cell_type": "code",
   "execution_count": 8,
   "id": "50e37c73",
   "metadata": {},
   "outputs": [
    {
     "data": {
      "text/plain": [
       "24"
      ]
     },
     "execution_count": 8,
     "metadata": {},
     "output_type": "execute_result"
    }
   ],
   "source": [
    "len(np.concatenate([grp1, grp2, grp3]))"
   ]
  },
  {
   "cell_type": "code",
   "execution_count": 9,
   "id": "b5be7556",
   "metadata": {},
   "outputs": [
    {
     "data": {
      "text/plain": [
       "F_onewayResult(statistic=3.225288230628737, pvalue=0.060049883564849756)"
      ]
     },
     "execution_count": 9,
     "metadata": {},
     "output_type": "execute_result"
    }
   ],
   "source": [
    "scipy.stats.f_oneway(grp1, grp2, grp3)"
   ]
  },
  {
   "cell_type": "code",
   "execution_count": 10,
   "id": "2e11dd4b",
   "metadata": {},
   "outputs": [
    {
     "data": {
      "text/html": [
       "<table class=\"simpletable\">\n",
       "<caption>Test Multiple Comparison ttest_ind \n",
       "FWER=0.05 method=bonf\n",
       "alphacSidak=0.02, alphacBonf=0.017</caption>\n",
       "<tr>\n",
       "  <th>group1</th>   <th>group2</th>   <th>stat</th>    <th>pval</th>  <th>pval_corr</th> <th>reject</th>\n",
       "</tr>\n",
       "<tr>\n",
       "    <td>HFD</td>    <td>HFD+SAL</td> <td>0.0446</td>  <td>0.9651</td>    <td>1.0</td>     <td>False</td>\n",
       "</tr>\n",
       "<tr>\n",
       "    <td>HFD</td>   <td>HFD+SANA</td> <td>-1.906</td>  <td>0.0774</td>  <td>0.2322</td>    <td>False</td>\n",
       "</tr>\n",
       "<tr>\n",
       "  <td>HFD+SAL</td> <td>HFD+SANA</td> <td>-2.3688</td> <td>0.0328</td>  <td>0.0983</td>    <td>False</td>\n",
       "</tr>\n",
       "</table>"
      ],
      "text/plain": [
       "<class 'statsmodels.iolib.table.SimpleTable'>"
      ]
     },
     "execution_count": 10,
     "metadata": {},
     "output_type": "execute_result"
    }
   ],
   "source": [
    "comp = multicomp.MultiComparison(data=np.concatenate([grp1, grp2, grp3]), \n",
    "                                  groups=np.concatenate([['HFD']*len(grp1), \n",
    "                                                         ['HFD+SAL']*len(grp2), \n",
    "                                                         ['HFD+SANA']*len(grp3)]))\n",
    "tbl, a1, a2 = comp.allpairtest(scipy.stats.ttest_ind, method= \"bonf\", alpha=0.05)\n",
    "tbl"
   ]
  },
  {
   "cell_type": "code",
   "execution_count": 11,
   "id": "791f8cd5",
   "metadata": {},
   "outputs": [
    {
     "data": {
      "text/plain": [
       "(array([[ 0.04455278,  0.96509302],\n",
       "        [-1.90595357,  0.0773972 ],\n",
       "        [-2.36879031,  0.03276748]]),\n",
       " array([False, False, False]),\n",
       " array([1.        , 0.23219159, 0.09830243]),\n",
       " 0.016952427508441503,\n",
       " 0.016666666666666666)"
      ]
     },
     "execution_count": 11,
     "metadata": {},
     "output_type": "execute_result"
    }
   ],
   "source": [
    "a1"
   ]
  },
  {
   "cell_type": "code",
   "execution_count": 12,
   "id": "b6607f07",
   "metadata": {},
   "outputs": [
    {
     "data": {
      "text/plain": [
       "array([[1.        , 0.99910857, 0.09826946],\n",
       "       [0.99910857, 1.        , 0.09100813],\n",
       "       [0.09826946, 0.09100813, 1.        ]])"
      ]
     },
     "execution_count": 12,
     "metadata": {},
     "output_type": "execute_result"
    }
   ],
   "source": [
    "scipy.stats.tukey_hsd(*[grp1, grp2, grp3]).pvalue"
   ]
  },
  {
   "cell_type": "markdown",
   "id": "561c29ee",
   "metadata": {},
   "source": [
    "Here is Figure 1L:\n",
    "\n",
    "![file](../img/pub_fig_1l.png)\n",
    "\n",
    "This is described as involving a one-way ANOVA followed by Bonferroni post-hoc. Using the [source data](https://www.nature.com/articles/s42255-025-01311-z#Sec38) for this figure, we arrive at F(2, 21) = 3.23, p = 0.0600. This implies that there was no significant difference between means. Moreover, the p-values for the post-hoc test appear to be incorrect both for Bonferroni post-hoc comparison (i.e., independent t-tests between groups and Bonferroni FWER correction on p-values for each pairwise test) and for Tukey's post-hoc test. **If performed correctly using either of these procedures, none of these comparisons show a significant difference at p < 0.05**. Thus, the authors statement that \"Protection against DIO by SANA...[was] \"parallelled by an increase in the percentage of lean mass in the SANA-treated mice\" is not supported.\n",
    "\n",
    "| Comparison | Published p-value | Bonferroni p-value | Tukey p-value |\n",
    "| -- | --- | --- | --- |\n",
    "| HFD vs HFD+SANA | 0.04 | 0.232 |0.0983|\n",
    "| HFD vs HFD+SAL | 0.998 | 1.00 |0.999|\n",
    "|  HFD+SAL vs HFD+SANA | 0.02 |0.0983 |0.0910|\n",
    "\n",
    "Could the authors clarify? \n",
    "\n",
    "The code for this analysis is available at [github.com/reeserich/cal_et_al_2025](https://github.com/reeserich/cal_et_al_2025)."
   ]
  },
  {
   "cell_type": "code",
   "execution_count": null,
   "id": "51e33875",
   "metadata": {},
   "outputs": [],
   "source": []
  }
 ],
 "metadata": {
  "kernelspec": {
   "display_name": "Python 3 (ipykernel)",
   "language": "python",
   "name": "python3"
  },
  "language_info": {
   "codemirror_mode": {
    "name": "ipython",
    "version": 3
   },
   "file_extension": ".py",
   "mimetype": "text/x-python",
   "name": "python",
   "nbconvert_exporter": "python",
   "pygments_lexer": "ipython3",
   "version": "3.9.12"
  }
 },
 "nbformat": 4,
 "nbformat_minor": 5
}
