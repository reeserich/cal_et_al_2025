{
 "cells": [
  {
   "cell_type": "code",
   "execution_count": 55,
   "id": "78c8a6c0",
   "metadata": {},
   "outputs": [],
   "source": [
    "import pandas as pd\n",
    "import numpy as np\n",
    "import scipy\n",
    "import matplotlib as mpl\n",
    "import matplotlib.pyplot as plt\n",
    "import seaborn as sns\n",
    "from statsmodels.stats.multitest import multipletests\n",
    "import statsmodels.stats.multicomp as multicomp"
   ]
  },
  {
   "cell_type": "markdown",
   "id": "ac652bd8",
   "metadata": {},
   "source": [
    "# 1G (left)"
   ]
  },
  {
   "cell_type": "code",
   "execution_count": 56,
   "id": "da8493fe",
   "metadata": {},
   "outputs": [],
   "source": [
    "data_df = pd.read_excel('../data/42255_2025_1311_MOESM4_ESM.xlsx', sheet_name='1G-L')"
   ]
  },
  {
   "cell_type": "code",
   "execution_count": 57,
   "id": "5f4269bb",
   "metadata": {},
   "outputs": [],
   "source": [
    "grp1, grp2, grp3 = data_df['HFD'].dropna().values, data_df['HFD+SAL'].dropna().values, data_df['HFD+SANA '].dropna().values"
   ]
  },
  {
   "cell_type": "code",
   "execution_count": 58,
   "id": "7a4d54ef",
   "metadata": {},
   "outputs": [
    {
     "data": {
      "text/plain": [
       "31"
      ]
     },
     "execution_count": 58,
     "metadata": {},
     "output_type": "execute_result"
    }
   ],
   "source": [
    "len(np.concatenate([grp1, grp2, grp3]))"
   ]
  },
  {
   "cell_type": "code",
   "execution_count": 59,
   "id": "92ec123d",
   "metadata": {},
   "outputs": [
    {
     "data": {
      "text/plain": [
       "F_onewayResult(statistic=2.874378247889131, pvalue=0.0732155926371584)"
      ]
     },
     "execution_count": 59,
     "metadata": {},
     "output_type": "execute_result"
    }
   ],
   "source": [
    "scipy.stats.f_oneway(data_df['HFD'].dropna().values, \n",
    "                     data_df['HFD+SAL'].dropna().values, \n",
    "                     data_df['HFD+SANA '].dropna().values)"
   ]
  },
  {
   "cell_type": "code",
   "execution_count": 60,
   "id": "79a0fb15",
   "metadata": {},
   "outputs": [],
   "source": [
    "comp = multicomp.MultiComparison(data=np.concatenate([grp1, grp2, grp3]), \n",
    "                                  groups=np.concatenate([['HFD']*len(grp1), \n",
    "                                                         ['HFD+SAL']*len(grp2), \n",
    "                                                         ['HFD+SANA']*len(grp3)]))\n",
    "tbl, a1, a2 = comp.allpairtest(scipy.stats.ttest_ind, method= \"bonf\", alpha=0.05)"
   ]
  },
  {
   "cell_type": "code",
   "execution_count": 61,
   "id": "3ea55017",
   "metadata": {},
   "outputs": [
    {
     "data": {
      "text/html": [
       "<table class=\"simpletable\">\n",
       "<caption>Test Multiple Comparison ttest_ind \n",
       "FWER=0.05 method=bonf\n",
       "alphacSidak=0.02, alphacBonf=0.017</caption>\n",
       "<tr>\n",
       "  <th>group1</th>   <th>group2</th>   <th>stat</th>    <th>pval</th>  <th>pval_corr</th> <th>reject</th>\n",
       "</tr>\n",
       "<tr>\n",
       "    <td>HFD</td>    <td>HFD+SAL</td> <td>1.9001</td>  <td>0.0736</td>  <td>0.2207</td>    <td>False</td>\n",
       "</tr>\n",
       "<tr>\n",
       "    <td>HFD</td>   <td>HFD+SANA</td> <td>-0.1524</td> <td>0.8806</td>    <td>1.0</td>     <td>False</td>\n",
       "</tr>\n",
       "<tr>\n",
       "  <td>HFD+SAL</td> <td>HFD+SANA</td> <td>-2.5059</td>  <td>0.021</td>  <td>0.0629</td>    <td>False</td>\n",
       "</tr>\n",
       "</table>"
      ],
      "text/plain": [
       "<class 'statsmodels.iolib.table.SimpleTable'>"
      ]
     },
     "execution_count": 61,
     "metadata": {},
     "output_type": "execute_result"
    }
   ],
   "source": [
    "tbl"
   ]
  },
  {
   "cell_type": "code",
   "execution_count": 62,
   "id": "4f657b54",
   "metadata": {
    "scrolled": true
   },
   "outputs": [
    {
     "data": {
      "text/plain": [
       "array([[1.        , 0.15648264, 0.9839871 ],\n",
       "       [0.15648264, 1.        , 0.09107853],\n",
       "       [0.9839871 , 0.09107853, 1.        ]])"
      ]
     },
     "execution_count": 62,
     "metadata": {},
     "output_type": "execute_result"
    }
   ],
   "source": [
    "scipy.stats.tukey_hsd(*[grp1, grp2, grp3]).pvalue"
   ]
  },
  {
   "cell_type": "markdown",
   "id": "1559452f",
   "metadata": {},
   "source": [
    "![](../img/pub_fig_1g_l.png)"
   ]
  },
  {
   "cell_type": "markdown",
   "id": "98f4b447",
   "metadata": {},
   "source": [
    "Here is the left panel of Figure 1G:\n",
    "\n",
    "![file](https://pubpeer.com/storage/image-1750972850982.png)\n",
    "\n",
    "This is described as involving a one-way ANOVA followed by Bonferroni post-hoc. Using the [source data](https://www.nature.com/articles/s42255-025-01311-z#Sec38) for this figure, we arrive at F(2, 28) = 2.874, p = 0.07, which supports the authors' statement that treatment did not affect stool mass. However, the p-values for the post-hoc test appear to be wrong for Bonferroni post-hoc comparison (i.e., independent t-tests between groups and Bonferroni FWER correction on p-values for each pairwise test). The p-values shown here are closer to the expected output of Tukey's post-hoc test.\n",
    "\n",
    "| Comparison | Published p-value | Bonferroni p-value | Tukey p-value |\n",
    "| -- | --- | --- | --- |\n",
    "| HFD vs HFD+SANA | 0.98 | 1.000 | 0.984 |\n",
    "| HFD vs HFD+SAL | 0.16 | 0.221 | 0.156 |\n",
    "|  HFD+SAL vs HFD+SANA | 0.09 | 0.0629 | 0.0911|\n",
    "\n",
    "Could the authors clarify?\n"
   ]
  },
  {
   "cell_type": "markdown",
   "id": "e55e3670",
   "metadata": {},
   "source": [
    "# 1G (right)"
   ]
  },
  {
   "cell_type": "code",
   "execution_count": 63,
   "id": "d2257de8",
   "metadata": {},
   "outputs": [],
   "source": [
    "data_df = pd.read_excel('../data/42255_2025_1311_MOESM4_ESM.xlsx', sheet_name='1G-R')"
   ]
  },
  {
   "cell_type": "code",
   "execution_count": 64,
   "id": "a271227e",
   "metadata": {},
   "outputs": [],
   "source": [
    "grp1, grp2, grp3 = data_df['HFD'].dropna().values, data_df['HFD+SAL'].dropna().values, data_df['HFD+SANA'].dropna().values"
   ]
  },
  {
   "cell_type": "code",
   "execution_count": 65,
   "id": "eab2a27f",
   "metadata": {},
   "outputs": [
    {
     "data": {
      "text/plain": [
       "array([0.64784531, 1.01854481, 0.43320781, 0.68435827, 1.03398685,\n",
       "       0.72202543, 0.70547562, 0.66898151, 0.40121503, 0.39080251,\n",
       "       0.46569904, 0.56799336, 1.11847481, 0.49026001, 0.47385096,\n",
       "       0.76841862, 1.16442579, 0.85188218, 0.89924941])"
      ]
     },
     "execution_count": 65,
     "metadata": {},
     "output_type": "execute_result"
    }
   ],
   "source": [
    "np.concatenate([grp1, grp2, grp3])"
   ]
  },
  {
   "cell_type": "code",
   "execution_count": 66,
   "id": "9b4c30d8",
   "metadata": {},
   "outputs": [
    {
     "data": {
      "text/plain": [
       "F_onewayResult(statistic=0.8526603246699854, pvalue=0.4447638594390247)"
      ]
     },
     "execution_count": 66,
     "metadata": {},
     "output_type": "execute_result"
    }
   ],
   "source": [
    "scipy.stats.f_oneway(grp1, grp2, grp3)"
   ]
  },
  {
   "cell_type": "code",
   "execution_count": 67,
   "id": "893d92c3",
   "metadata": {},
   "outputs": [],
   "source": [
    "comp = multicomp.MultiComparison(data=np.concatenate([grp1, grp2, grp3]), \n",
    "                                  groups=np.concatenate([['HFD']*len(grp1), \n",
    "                                                         ['HFD+SAL']*len(grp2), \n",
    "                                                         ['HFD+SANA']*len(grp3)]))\n",
    "tbl, a1, a2 = comp.allpairtest(scipy.stats.ttest_ind, method= \"bonf\", alpha=0.05)"
   ]
  },
  {
   "cell_type": "code",
   "execution_count": 68,
   "id": "1704efc7",
   "metadata": {},
   "outputs": [
    {
     "data": {
      "text/html": [
       "<table class=\"simpletable\">\n",
       "<caption>Test Multiple Comparison ttest_ind \n",
       "FWER=0.05 method=bonf\n",
       "alphacSidak=0.02, alphacBonf=0.017</caption>\n",
       "<tr>\n",
       "  <th>group1</th>   <th>group2</th>   <th>stat</th>    <th>pval</th>  <th>pval_corr</th> <th>reject</th>\n",
       "</tr>\n",
       "<tr>\n",
       "    <td>HFD</td>    <td>HFD+SAL</td>  <td>1.091</td>  <td>0.2986</td>  <td>0.8958</td>    <td>False</td>\n",
       "</tr>\n",
       "<tr>\n",
       "    <td>HFD</td>   <td>HFD+SANA</td> <td>-0.1925</td> <td>0.8509</td>    <td>1.0</td>     <td>False</td>\n",
       "</tr>\n",
       "<tr>\n",
       "  <td>HFD+SAL</td> <td>HFD+SANA</td> <td>-1.1129</td> <td>0.2918</td>  <td>0.8754</td>    <td>False</td>\n",
       "</tr>\n",
       "</table>"
      ],
      "text/plain": [
       "<class 'statsmodels.iolib.table.SimpleTable'>"
      ]
     },
     "execution_count": 68,
     "metadata": {},
     "output_type": "execute_result"
    }
   ],
   "source": [
    "tbl"
   ]
  },
  {
   "cell_type": "code",
   "execution_count": 69,
   "id": "d25f3a62",
   "metadata": {
    "scrolled": true
   },
   "outputs": [
    {
     "data": {
      "text/plain": [
       "array([[1.        , 0.54985981, 0.981743  ],\n",
       "       [0.54985981, 1.        , 0.46999669],\n",
       "       [0.981743  , 0.46999669, 1.        ]])"
      ]
     },
     "execution_count": 69,
     "metadata": {},
     "output_type": "execute_result"
    }
   ],
   "source": [
    "scipy.stats.tukey_hsd(*[grp1, grp2, grp3]).pvalue"
   ]
  },
  {
   "cell_type": "code",
   "execution_count": null,
   "id": "6a428a8f",
   "metadata": {},
   "outputs": [],
   "source": []
  }
 ],
 "metadata": {
  "kernelspec": {
   "display_name": "Python 3 (ipykernel)",
   "language": "python",
   "name": "python3"
  },
  "language_info": {
   "codemirror_mode": {
    "name": "ipython",
    "version": 3
   },
   "file_extension": ".py",
   "mimetype": "text/x-python",
   "name": "python",
   "nbconvert_exporter": "python",
   "pygments_lexer": "ipython3",
   "version": "3.9.12"
  }
 },
 "nbformat": 4,
 "nbformat_minor": 5
}
