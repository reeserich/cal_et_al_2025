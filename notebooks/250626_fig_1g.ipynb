{
 "cells": [
  {
   "cell_type": "code",
   "execution_count": 55,
   "id": "bf025d40",
   "metadata": {},
   "outputs": [],
   "source": [
    "import pandas as pd\n",
    "import numpy as np\n",
    "import scipy\n",
    "import matplotlib as mpl\n",
    "import matplotlib.pyplot as plt\n",
    "import seaborn as sns\n",
    "from statsmodels.stats.multitest import multipletests\n",
    "import statsmodels.stats.multicomp as multicomp"
   ]
  },
  {
   "cell_type": "markdown",
   "id": "8fcf0021",
   "metadata": {},
   "source": [
    "# 1G (left)"
   ]
  },
  {
   "cell_type": "code",
   "execution_count": 56,
   "id": "11277d61",
   "metadata": {},
   "outputs": [],
   "source": [
    "data_df = pd.read_excel('../data/42255_2025_1311_MOESM4_ESM.xlsx', sheet_name='1G-L')"
   ]
  },
  {
   "cell_type": "code",
   "execution_count": 57,
   "id": "e946e976",
   "metadata": {},
   "outputs": [],
   "source": [
    "grp1, grp2, grp3 = data_df['HFD'].dropna().values, data_df['HFD+SAL'].dropna().values, data_df['HFD+SANA '].dropna().values"
   ]
  },
  {
   "cell_type": "code",
   "execution_count": 58,
   "id": "e4b33bba",
   "metadata": {},
   "outputs": [
    {
     "data": {
      "text/plain": [
       "31"
      ]
     },
     "execution_count": 58,
     "metadata": {},
     "output_type": "execute_result"
    }
   ],
   "source": [
    "len(np.concatenate([grp1, grp2, grp3]))"
   ]
  },
  {
   "cell_type": "code",
   "execution_count": 59,
   "id": "42ac5c3c",
   "metadata": {},
   "outputs": [
    {
     "data": {
      "text/plain": [
       "F_onewayResult(statistic=2.874378247889131, pvalue=0.0732155926371584)"
      ]
     },
     "execution_count": 59,
     "metadata": {},
     "output_type": "execute_result"
    }
   ],
   "source": [
    "scipy.stats.f_oneway(data_df['HFD'].dropna().values, \n",
    "                     data_df['HFD+SAL'].dropna().values, \n",
    "                     data_df['HFD+SANA '].dropna().values)"
   ]
  },
  {
   "cell_type": "code",
   "execution_count": 60,
   "id": "789b5596",
   "metadata": {},
   "outputs": [],
   "source": [
    "comp = multicomp.MultiComparison(data=np.concatenate([grp1, grp2, grp3]), \n",
    "                                  groups=np.concatenate([['HFD']*len(grp1), \n",
    "                                                         ['HFD+SAL']*len(grp2), \n",
    "                                                         ['HFD+SANA']*len(grp3)]))\n",
    "tbl, a1, a2 = comp.allpairtest(scipy.stats.ttest_ind, method= \"bonf\", alpha=0.05)"
   ]
  },
  {
   "cell_type": "code",
   "execution_count": 61,
   "id": "58a473c6",
   "metadata": {},
   "outputs": [
    {
     "data": {
      "text/html": [
       "<table class=\"simpletable\">\n",
       "<caption>Test Multiple Comparison ttest_ind \n",
       "FWER=0.05 method=bonf\n",
       "alphacSidak=0.02, alphacBonf=0.017</caption>\n",
       "<tr>\n",
       "  <th>group1</th>   <th>group2</th>   <th>stat</th>    <th>pval</th>  <th>pval_corr</th> <th>reject</th>\n",
       "</tr>\n",
       "<tr>\n",
       "    <td>HFD</td>    <td>HFD+SAL</td> <td>1.9001</td>  <td>0.0736</td>  <td>0.2207</td>    <td>False</td>\n",
       "</tr>\n",
       "<tr>\n",
       "    <td>HFD</td>   <td>HFD+SANA</td> <td>-0.1524</td> <td>0.8806</td>    <td>1.0</td>     <td>False</td>\n",
       "</tr>\n",
       "<tr>\n",
       "  <td>HFD+SAL</td> <td>HFD+SANA</td> <td>-2.5059</td>  <td>0.021</td>  <td>0.0629</td>    <td>False</td>\n",
       "</tr>\n",
       "</table>"
      ],
      "text/plain": [
       "<class 'statsmodels.iolib.table.SimpleTable'>"
      ]
     },
     "execution_count": 61,
     "metadata": {},
     "output_type": "execute_result"
    }
   ],
   "source": [
    "tbl"
   ]
  },
  {
   "cell_type": "code",
   "execution_count": 62,
   "id": "20620178",
   "metadata": {
    "scrolled": true
   },
   "outputs": [
    {
     "data": {
      "text/plain": [
       "array([[1.        , 0.15648264, 0.9839871 ],\n",
       "       [0.15648264, 1.        , 0.09107853],\n",
       "       [0.9839871 , 0.09107853, 1.        ]])"
      ]
     },
     "execution_count": 62,
     "metadata": {},
     "output_type": "execute_result"
    }
   ],
   "source": [
    "scipy.stats.tukey_hsd(*[grp1, grp2, grp3]).pvalue"
   ]
  },
  {
   "cell_type": "markdown",
   "id": "fc9f4ad5",
   "metadata": {},
   "source": [
    "Here is the left panel of Figure 1G:\n",
    "\n",
    "![](../img/pub_fig_1g_l.png)\n",
    "\n",
    "This is described as involving a one-way ANOVA followed by Bonferroni post-hoc. Using the [source data](https://www.nature.com/articles/s42255-025-01311-z#Sec38) for this figure, we arrive at F(2, 28) = 2.874, p = 0.07, which supports the authors' statement that treatment did not affect stool mass. However, the p-values for the post-hoc test appear to be wrong for Bonferroni post-hoc comparison (i.e., independent t-tests between groups and Bonferroni FWER correction on p-values for each pairwise test). The p-values shown here instead match the expected output of Tukey's post-hoc test.\n",
    "\n",
    "| Comparison | Published p-value | Bonferroni p-value | Tukey p-value |\n",
    "| -- | --- | --- | --- |\n",
    "| HFD vs HFD+SANA | 0.98 | 1.000 | 0.984 |\n",
    "| HFD vs HFD+SAL | 0.16 | 0.221 | 0.156 |\n",
    "|  HFD+SAL vs HFD+SANA | 0.09 | 0.0629 | 0.0911|\n",
    "\n",
    "Could the authors clarify?\n"
   ]
  },
  {
   "cell_type": "markdown",
   "id": "fe153d94",
   "metadata": {},
   "source": [
    "# 1G (right)"
   ]
  },
  {
   "cell_type": "code",
   "execution_count": 63,
   "id": "fe8a8187",
   "metadata": {},
   "outputs": [],
   "source": [
    "data_df = pd.read_excel('../data/42255_2025_1311_MOESM4_ESM.xlsx', sheet_name='1G-R')"
   ]
  },
  {
   "cell_type": "code",
   "execution_count": 64,
   "id": "4e71895b",
   "metadata": {},
   "outputs": [],
   "source": [
    "grp1, grp2, grp3 = data_df['HFD'].dropna().values, data_df['HFD+SAL'].dropna().values, data_df['HFD+SANA'].dropna().values"
   ]
  },
  {
   "cell_type": "code",
   "execution_count": 70,
   "id": "eee4e393",
   "metadata": {},
   "outputs": [
    {
     "data": {
      "text/plain": [
       "19"
      ]
     },
     "execution_count": 70,
     "metadata": {},
     "output_type": "execute_result"
    }
   ],
   "source": [
    "len(np.concatenate([grp1, grp2, grp3]))"
   ]
  },
  {
   "cell_type": "code",
   "execution_count": 66,
   "id": "2a4387b2",
   "metadata": {},
   "outputs": [
    {
     "data": {
      "text/plain": [
       "F_onewayResult(statistic=0.8526603246699854, pvalue=0.4447638594390247)"
      ]
     },
     "execution_count": 66,
     "metadata": {},
     "output_type": "execute_result"
    }
   ],
   "source": [
    "scipy.stats.f_oneway(grp1, grp2, grp3)"
   ]
  },
  {
   "cell_type": "code",
   "execution_count": 67,
   "id": "32aa39fa",
   "metadata": {},
   "outputs": [],
   "source": [
    "comp = multicomp.MultiComparison(data=np.concatenate([grp1, grp2, grp3]), \n",
    "                                  groups=np.concatenate([['HFD']*len(grp1), \n",
    "                                                         ['HFD+SAL']*len(grp2), \n",
    "                                                         ['HFD+SANA']*len(grp3)]))\n",
    "tbl, a1, a2 = comp.allpairtest(scipy.stats.ttest_ind, method= \"bonf\", alpha=0.05)"
   ]
  },
  {
   "cell_type": "code",
   "execution_count": 68,
   "id": "f450ae3a",
   "metadata": {},
   "outputs": [
    {
     "data": {
      "text/html": [
       "<table class=\"simpletable\">\n",
       "<caption>Test Multiple Comparison ttest_ind \n",
       "FWER=0.05 method=bonf\n",
       "alphacSidak=0.02, alphacBonf=0.017</caption>\n",
       "<tr>\n",
       "  <th>group1</th>   <th>group2</th>   <th>stat</th>    <th>pval</th>  <th>pval_corr</th> <th>reject</th>\n",
       "</tr>\n",
       "<tr>\n",
       "    <td>HFD</td>    <td>HFD+SAL</td>  <td>1.091</td>  <td>0.2986</td>  <td>0.8958</td>    <td>False</td>\n",
       "</tr>\n",
       "<tr>\n",
       "    <td>HFD</td>   <td>HFD+SANA</td> <td>-0.1925</td> <td>0.8509</td>    <td>1.0</td>     <td>False</td>\n",
       "</tr>\n",
       "<tr>\n",
       "  <td>HFD+SAL</td> <td>HFD+SANA</td> <td>-1.1129</td> <td>0.2918</td>  <td>0.8754</td>    <td>False</td>\n",
       "</tr>\n",
       "</table>"
      ],
      "text/plain": [
       "<class 'statsmodels.iolib.table.SimpleTable'>"
      ]
     },
     "execution_count": 68,
     "metadata": {},
     "output_type": "execute_result"
    }
   ],
   "source": [
    "tbl"
   ]
  },
  {
   "cell_type": "code",
   "execution_count": 69,
   "id": "c3b3809e",
   "metadata": {
    "scrolled": true
   },
   "outputs": [
    {
     "data": {
      "text/plain": [
       "array([[1.        , 0.54985981, 0.981743  ],\n",
       "       [0.54985981, 1.        , 0.46999669],\n",
       "       [0.981743  , 0.46999669, 1.        ]])"
      ]
     },
     "execution_count": 69,
     "metadata": {},
     "output_type": "execute_result"
    }
   ],
   "source": [
    "scipy.stats.tukey_hsd(*[grp1, grp2, grp3]).pvalue"
   ]
  },
  {
   "cell_type": "markdown",
   "id": "9677e6e6",
   "metadata": {},
   "source": [
    "Here is the right panel of Figure 1G:\n",
    "\n",
    "![](../img/pub_fig_1g_r.png)\n",
    "\n",
    "This is described as involving a one-way ANOVA followed by Bonferroni post-hoc. Using the [source data](https://www.nature.com/articles/s42255-025-01311-z#Sec38) for this figure, we arrive at F(2, 16) = 0.853, p = 0.445, which supports the authors' statement that treatment did not affect stool caloric content. However, the p-values for the post-hoc test appear to be wrong for Bonferroni post-hoc comparison (i.e., independent t-tests between groups and Bonferroni FWER correction on p-values for each pairwise test). The p-values shown here instead match the expected output of Tukey's post-hoc test.\n",
    "\n",
    "| Comparison | Published p-value | Bonferroni p-value | Tukey p-value |\n",
    "| -- | --- | --- | --- |\n",
    "| HFD vs HFD+SANA | 0.98 | 1.000 | 0.982 |\n",
    "| HFD vs HFD+SAL | 0.55 | 0.896 | 0.550 |\n",
    "|  HFD+SAL vs HFD+SANA | 0.47 | 0.875 | 0.470 |\n",
    "\n",
    "Could the authors clarify?"
   ]
  },
  {
   "cell_type": "code",
   "execution_count": null,
   "id": "67e32972",
   "metadata": {},
   "outputs": [],
   "source": []
  },
  {
   "cell_type": "code",
   "execution_count": null,
   "id": "0391bddd",
   "metadata": {},
   "outputs": [],
   "source": []
  }
 ],
 "metadata": {
  "kernelspec": {
   "display_name": "Python 3 (ipykernel)",
   "language": "python",
   "name": "python3"
  },
  "language_info": {
   "codemirror_mode": {
    "name": "ipython",
    "version": 3
   },
   "file_extension": ".py",
   "mimetype": "text/x-python",
   "name": "python",
   "nbconvert_exporter": "python",
   "pygments_lexer": "ipython3",
   "version": "3.9.12"
  }
 },
 "nbformat": 4,
 "nbformat_minor": 5
}
