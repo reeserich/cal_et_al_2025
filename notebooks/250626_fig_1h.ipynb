{
 "cells": [
  {
   "cell_type": "code",
   "execution_count": 1,
   "id": "429aaff0",
   "metadata": {},
   "outputs": [],
   "source": [
    "import pandas as pd\n",
    "import numpy as np\n",
    "import scipy\n",
    "import matplotlib as mpl\n",
    "import matplotlib.pyplot as plt\n",
    "import seaborn as sns\n",
    "from statsmodels.stats.multitest import multipletests\n",
    "import statsmodels.stats.multicomp as multicomp"
   ]
  },
  {
   "cell_type": "code",
   "execution_count": 2,
   "id": "1d8a04b7",
   "metadata": {},
   "outputs": [],
   "source": [
    "data_df = pd.read_excel('../data/42255_2025_1311_MOESM4_ESM.xlsx', sheet_name='1H')"
   ]
  },
  {
   "cell_type": "code",
   "execution_count": 3,
   "id": "34095d60",
   "metadata": {},
   "outputs": [],
   "source": [
    "grp1, grp2, grp3 = data_df['HFD'].dropna().values, data_df['HFD+SAL'].dropna().values, data_df['HFD+SANA'].dropna().values"
   ]
  },
  {
   "cell_type": "code",
   "execution_count": 4,
   "id": "b196946f",
   "metadata": {},
   "outputs": [],
   "source": [
    "collect = [grp1, grp2, grp3]"
   ]
  },
  {
   "cell_type": "code",
   "execution_count": 5,
   "id": "8e807cfe",
   "metadata": {},
   "outputs": [
    {
     "data": {
      "text/plain": [
       "18"
      ]
     },
     "execution_count": 5,
     "metadata": {},
     "output_type": "execute_result"
    }
   ],
   "source": [
    "len(np.concatenate([grp1, grp2, grp3]))"
   ]
  },
  {
   "cell_type": "code",
   "execution_count": 6,
   "id": "5edb8905",
   "metadata": {},
   "outputs": [
    {
     "data": {
      "text/plain": [
       "F_onewayResult(statistic=3.165867464704526, pvalue=0.07128335051187434)"
      ]
     },
     "execution_count": 6,
     "metadata": {},
     "output_type": "execute_result"
    }
   ],
   "source": [
    "scipy.stats.f_oneway(grp1, grp2, grp3)"
   ]
  },
  {
   "cell_type": "code",
   "execution_count": 8,
   "id": "eb62a11a",
   "metadata": {},
   "outputs": [
    {
     "data": {
      "text/html": [
       "<table class=\"simpletable\">\n",
       "<caption>Test Multiple Comparison ttest_ind \n",
       "FWER=0.05 method=bonf\n",
       "alphacSidak=0.02, alphacBonf=0.017</caption>\n",
       "<tr>\n",
       "  <th>group1</th>   <th>group2</th>   <th>stat</th>    <th>pval</th>  <th>pval_corr</th> <th>reject</th>\n",
       "</tr>\n",
       "<tr>\n",
       "    <td>HFD</td>    <td>HFD+SAL</td> <td>-0.9206</td> <td>0.3789</td>    <td>1.0</td>     <td>False</td>\n",
       "</tr>\n",
       "<tr>\n",
       "    <td>HFD</td>   <td>HFD+SANA</td> <td>-3.0164</td>  <td>0.013</td>  <td>0.0389</td>    <td>True</td> \n",
       "</tr>\n",
       "<tr>\n",
       "  <td>HFD+SAL</td> <td>HFD+SANA</td> <td>-1.4401</td> <td>0.1804</td>  <td>0.5412</td>    <td>False</td>\n",
       "</tr>\n",
       "</table>"
      ],
      "text/plain": [
       "<class 'statsmodels.iolib.table.SimpleTable'>"
      ]
     },
     "execution_count": 8,
     "metadata": {},
     "output_type": "execute_result"
    }
   ],
   "source": [
    "comp = multicomp.MultiComparison(data=np.concatenate([grp1, grp2, grp3]), \n",
    "                                  groups=np.concatenate([['HFD']*len(grp1), \n",
    "                                                         ['HFD+SAL']*len(grp2), \n",
    "                                                         ['HFD+SANA']*len(grp3)]))\n",
    "tbl, a1, a2 = comp.allpairtest(scipy.stats.ttest_ind, method= \"bonf\", alpha=0.05)\n",
    "tbl"
   ]
  },
  {
   "cell_type": "code",
   "execution_count": 9,
   "id": "ac28cb8d",
   "metadata": {},
   "outputs": [
    {
     "data": {
      "text/plain": [
       "array([[1.        , 0.56385316, 0.05955134],\n",
       "       [0.56385316, 1.        , 0.33526087],\n",
       "       [0.05955134, 0.33526087, 1.        ]])"
      ]
     },
     "execution_count": 9,
     "metadata": {},
     "output_type": "execute_result"
    }
   ],
   "source": [
    "scipy.stats.tukey_hsd(*[grp1, grp2, grp3]).pvalue"
   ]
  },
  {
   "cell_type": "markdown",
   "id": "f3d358d7",
   "metadata": {},
   "source": [
    "Here is Figure 1H:\n",
    "\n",
    "![file](../img/pub_fig_1h.png)\n",
    "\n",
    "This is described as involving a one-way ANOVA followed by Bonferroni post-hoc. Using the [source data](https://www.nature.com/articles/s42255-025-01311-z#Sec38) for this figure, we arrive at F(2, 16) = 3.166, p = 0.0713, which supports the authors' statement that treatment did not affect digested energy. However, the p-values for the post-hoc test appear to be wrong for Bonferroni post-hoc comparison (i.e., independent t-tests between groups and Bonferroni FWER correction on p-values for each pairwise test). The p-values shown here instead match the expected output of Tukey's post-hoc test, although with some inconsistencies in rounding.\n",
    "\n",
    "| Comparison | Published p-value | Bonferroni p-value | Tukey p-value |\n",
    "| -- | --- | --- | --- |\n",
    "| HFD vs HFD+SANA | 0.06 | 0.0389 | 0.0596 |\n",
    "| HFD vs HFD+SAL | 0.56 | 1.000 | 0.564 |\n",
    "|  HFD+SAL vs HFD+SANA | 0.33 | 0.541 | 0.335 |\n",
    "\n",
    "Could the authors clarify? \n",
    "\n",
    "The code for this analysis is available at [github.com/reeserich/cal_et_al_2025](https://github.com/reeserich/cal_et_al_2025)."
   ]
  },
  {
   "cell_type": "code",
   "execution_count": null,
   "id": "b05d6672",
   "metadata": {},
   "outputs": [],
   "source": []
  }
 ],
 "metadata": {
  "kernelspec": {
   "display_name": "Python 3 (ipykernel)",
   "language": "python",
   "name": "python3"
  },
  "language_info": {
   "codemirror_mode": {
    "name": "ipython",
    "version": 3
   },
   "file_extension": ".py",
   "mimetype": "text/x-python",
   "name": "python",
   "nbconvert_exporter": "python",
   "pygments_lexer": "ipython3",
   "version": "3.9.12"
  }
 },
 "nbformat": 4,
 "nbformat_minor": 5
}
