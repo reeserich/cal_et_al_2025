{
 "cells": [
  {
   "cell_type": "code",
   "execution_count": 1,
   "id": "ededf196",
   "metadata": {},
   "outputs": [],
   "source": [
    "import pandas as pd\n",
    "import numpy as np\n",
    "import scipy\n",
    "import matplotlib as mpl\n",
    "import matplotlib.pyplot as plt\n",
    "import seaborn as sns\n",
    "from statsmodels.stats.multitest import multipletests\n",
    "import statsmodels.stats.multicomp as multicomp"
   ]
  },
  {
   "cell_type": "code",
   "execution_count": 2,
   "id": "3d64eef6",
   "metadata": {},
   "outputs": [],
   "source": [
    "data_df = pd.read_excel('../data/42255_2025_1311_MOESM5_ESM.xlsx', sheet_name='2L')"
   ]
  },
  {
   "cell_type": "code",
   "execution_count": 3,
   "id": "aea20c58",
   "metadata": {},
   "outputs": [
    {
     "data": {
      "text/html": [
       "<div>\n",
       "<style scoped>\n",
       "    .dataframe tbody tr th:only-of-type {\n",
       "        vertical-align: middle;\n",
       "    }\n",
       "\n",
       "    .dataframe tbody tr th {\n",
       "        vertical-align: top;\n",
       "    }\n",
       "\n",
       "    .dataframe thead th {\n",
       "        text-align: right;\n",
       "    }\n",
       "</style>\n",
       "<table border=\"1\" class=\"dataframe\">\n",
       "  <thead>\n",
       "    <tr style=\"text-align: right;\">\n",
       "      <th></th>\n",
       "      <th>HFD</th>\n",
       "      <th>HFD+SAL</th>\n",
       "      <th>HFD+SANA</th>\n",
       "    </tr>\n",
       "  </thead>\n",
       "  <tbody>\n",
       "    <tr>\n",
       "      <th>0</th>\n",
       "      <td>5.130856</td>\n",
       "      <td>3.663540</td>\n",
       "      <td>0.054755</td>\n",
       "    </tr>\n",
       "    <tr>\n",
       "      <th>1</th>\n",
       "      <td>3.121056</td>\n",
       "      <td>3.612829</td>\n",
       "      <td>2.064112</td>\n",
       "    </tr>\n",
       "    <tr>\n",
       "      <th>2</th>\n",
       "      <td>1.605905</td>\n",
       "      <td>5.785027</td>\n",
       "      <td>1.014737</td>\n",
       "    </tr>\n",
       "    <tr>\n",
       "      <th>3</th>\n",
       "      <td>9.369681</td>\n",
       "      <td>4.725421</td>\n",
       "      <td>0.749991</td>\n",
       "    </tr>\n",
       "    <tr>\n",
       "      <th>4</th>\n",
       "      <td>8.379618</td>\n",
       "      <td>4.016210</td>\n",
       "      <td>1.246309</td>\n",
       "    </tr>\n",
       "    <tr>\n",
       "      <th>5</th>\n",
       "      <td>8.759274</td>\n",
       "      <td>3.082864</td>\n",
       "      <td>0.664874</td>\n",
       "    </tr>\n",
       "    <tr>\n",
       "      <th>6</th>\n",
       "      <td>3.884157</td>\n",
       "      <td>2.219070</td>\n",
       "      <td>1.049162</td>\n",
       "    </tr>\n",
       "    <tr>\n",
       "      <th>7</th>\n",
       "      <td>5.344271</td>\n",
       "      <td>3.075253</td>\n",
       "      <td>1.246309</td>\n",
       "    </tr>\n",
       "    <tr>\n",
       "      <th>8</th>\n",
       "      <td>6.802572</td>\n",
       "      <td>NaN</td>\n",
       "      <td>0.694845</td>\n",
       "    </tr>\n",
       "  </tbody>\n",
       "</table>\n",
       "</div>"
      ],
      "text/plain": [
       "        HFD  HFD+SAL   HFD+SANA \n",
       "0  5.130856  3.663540   0.054755\n",
       "1  3.121056  3.612829   2.064112\n",
       "2  1.605905  5.785027   1.014737\n",
       "3  9.369681  4.725421   0.749991\n",
       "4  8.379618  4.016210   1.246309\n",
       "5  8.759274  3.082864   0.664874\n",
       "6  3.884157  2.219070   1.049162\n",
       "7  5.344271  3.075253   1.246309\n",
       "8  6.802572       NaN   0.694845"
      ]
     },
     "execution_count": 3,
     "metadata": {},
     "output_type": "execute_result"
    }
   ],
   "source": [
    "data_df"
   ]
  },
  {
   "cell_type": "code",
   "execution_count": 4,
   "id": "1f8a6b34",
   "metadata": {},
   "outputs": [],
   "source": [
    "grp1, grp2, grp3 = data_df['HFD'].dropna().values, \\\n",
    "data_df['HFD+SAL '].dropna().values, \\\n",
    "data_df['HFD+SANA '].dropna().values"
   ]
  },
  {
   "cell_type": "code",
   "execution_count": 6,
   "id": "5cbaaa52",
   "metadata": {},
   "outputs": [],
   "source": [
    "collect = [grp1, grp2, grp3]"
   ]
  },
  {
   "cell_type": "code",
   "execution_count": 7,
   "id": "2d01ae2a",
   "metadata": {},
   "outputs": [],
   "source": [
    "def reorder_label(label):\n",
    "    if label[-2:] == 'ND':\n",
    "        return 'ND vs ' + label.split('vs')[0].strip()\n",
    "    else:\n",
    "        return label"
   ]
  },
  {
   "cell_type": "code",
   "execution_count": 8,
   "id": "ee239bd8",
   "metadata": {},
   "outputs": [
    {
     "name": "stdout",
     "output_type": "stream",
     "text": [
      "N samples: 26\n",
      "ANOVA:\n",
      "F(2, 23) = 17.71686243123135, p = 2.2041393293088297e-05\n",
      "| Comparison          | Published p-value   |   Bonferroni p-value |   Tukey p-value |\n",
      "|:--------------------|:--------------------|---------------------:|----------------:|\n",
      "| HFD vs HFD+SAL      |                     |          0.191682    |     0.0579215   |\n",
      "| HFD vs HFD+SANA     |                     |          0.000224525 |     1.38786e-05 |\n",
      "| HFD+SAL vs HFD+SANA |                     |          1.89518e-05 |     0.00806203  |\n",
      "5.821932222222221\n",
      "3.77252675\n",
      "0.9761214822222222\n"
     ]
    }
   ],
   "source": [
    "for cat in [0]:\n",
    "    \n",
    "    print('N samples: ' + str(len(np.concatenate(collect))))\n",
    "\n",
    "    print('ANOVA:')\n",
    "    f = scipy.stats.f_oneway(grp1, grp2, grp3)\n",
    "    print('F(2, ' + str(len(np.concatenate(collect))-3) + ') = ' + str(f.statistic) + ', p = ' + str(f.pvalue))\n",
    "\n",
    "    #print('Bonferroni:')\n",
    "    comp = multicomp.MultiComparison(data=np.concatenate(collect), \n",
    "                                      groups=np.concatenate([['HFD']*len(grp1), \n",
    "                                                             ['HFD+SAL']*len(grp2), \n",
    "                                                             ['HFD+SANA']*len(grp3)]))\n",
    "    tbl, a1, a2 = comp.allpairtest(scipy.stats.ttest_ind, method= \"bonf\", alpha=0.05)\n",
    "    bonf = pd.DataFrame(tbl)\n",
    "    bonf.columns = bonf.loc[0].astype(str)\n",
    "    bonf = bonf[1:]\n",
    "    bonf['pval_corr'] = a1[2]\n",
    "    bonf['g1'] = bonf['group1']\n",
    "    bonf['g2'] = bonf['group2']\n",
    "    bonf_df = bonf.copy()\n",
    "    bonf_df['Bonferroni p-value'] = bonf_df['pval_corr']\n",
    "    bonf_df['Comparison'] = bonf_df['g1'].astype(str) + ' vs ' + bonf_df['g2'].astype(str)\n",
    "    bonf_df['Comparison'] = bonf_df['Comparison'].apply(reorder_label)\n",
    "\n",
    "    #print('Tukey:')\n",
    "    tukey = scipy.stats.tukey_hsd(*collect).pvalue\n",
    "    tukey_df = pd.DataFrame({'g1':['HFD', 'HFD', 'HFD+SAL'], \n",
    "     'g2':['HFD+SAL', 'HFD+SANA', 'HFD+SANA'],\n",
    "     'Tukey p-value':[tukey[0][1], tukey[0][2], tukey[1][2]]})\n",
    "    tukey_df['Comparison'] = tukey_df['g1'].astype(str) + ' vs ' + tukey_df['g2'].astype(str)\n",
    "\n",
    "    combo_df = pd.merge(bonf_df, tukey_df, on=['Comparison'], how='outer')\n",
    "    combo_df['Published p-value'] = ''\n",
    "    combo_df = combo_df[['Comparison', 'Published p-value', 'Bonferroni p-value', 'Tukey p-value']].set_index('Comparison')\n",
    "    print(combo_df.to_markdown())\n",
    "    \n",
    "    for grp in collect:\n",
    "        print(np.mean(grp))"
   ]
  },
  {
   "cell_type": "markdown",
   "id": "3b84a577",
   "metadata": {},
   "source": [
    "Here is Figure 2L:\n",
    "\n",
    "![file](../img/pub_fig_2l.png)\n",
    "\n",
    "This is described as involving a one-way ANOVA followed by Bonferroni post-hoc. Using the [source data](https://www.nature.com/articles/s42255-025-01311-z#Sec38), we arrive at F(2, 23) = 17.7, p = 2.20E-5. However, the p-values shown for the post-hoc test are incorrect for Bonferroni post-hoc comparison (i.e., independent t-tests between groups and Bonferroni FWER correction on p-values for each pairwise test) and the p-value shown for HFD vs HFD+SANA is incorrect for for Tukey's post-hoc test. See summary table below.\n",
    "\n",
    "| Comparison          | Published p-value   |   Bonferroni p-value |   Tukey p-value |\n",
    "|:--------------------|:--------------------|---------------------:|----------------:|\n",
    "| HFD vs HFD+SAL      |                     |          0.192    |     0.0579215   |\n",
    "| HFD vs HFD+SANA     |                     |          0.000225 |     1.39-5 |\n",
    "| HFD+SAL vs HFD+SANA |                     |          1.90E-5 |     0.00806  |\n",
    "\n",
    "Could the authors clarify? \n",
    "\n",
    "The code for this analysis is available at [github.com/reeserich/cal_et_al_2025](https://github.com/reeserich/cal_et_al_2025)."
   ]
  }
 ],
 "metadata": {
  "kernelspec": {
   "display_name": "Python 3 (ipykernel)",
   "language": "python",
   "name": "python3"
  },
  "language_info": {
   "codemirror_mode": {
    "name": "ipython",
    "version": 3
   },
   "file_extension": ".py",
   "mimetype": "text/x-python",
   "name": "python",
   "nbconvert_exporter": "python",
   "pygments_lexer": "ipython3",
   "version": "3.9.12"
  }
 },
 "nbformat": 4,
 "nbformat_minor": 5
}
