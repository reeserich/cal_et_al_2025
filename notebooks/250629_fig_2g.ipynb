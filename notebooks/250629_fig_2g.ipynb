{
 "cells": [
  {
   "cell_type": "code",
   "execution_count": 1,
   "id": "1f03e961",
   "metadata": {},
   "outputs": [],
   "source": [
    "import pandas as pd\n",
    "import numpy as np\n",
    "import scipy\n",
    "import matplotlib as mpl\n",
    "import matplotlib.pyplot as plt\n",
    "import seaborn as sns\n",
    "from statsmodels.stats.multitest import multipletests\n",
    "import statsmodels.stats.multicomp as multicomp"
   ]
  },
  {
   "cell_type": "code",
   "execution_count": 2,
   "id": "6edfa1a7",
   "metadata": {},
   "outputs": [],
   "source": [
    "data_df = pd.read_excel('../data/42255_2025_1311_MOESM5_ESM.xlsx', sheet_name='2G')"
   ]
  },
  {
   "cell_type": "code",
   "execution_count": 5,
   "id": "1783bc47",
   "metadata": {},
   "outputs": [
    {
     "data": {
      "text/html": [
       "<div>\n",
       "<style scoped>\n",
       "    .dataframe tbody tr th:only-of-type {\n",
       "        vertical-align: middle;\n",
       "    }\n",
       "\n",
       "    .dataframe tbody tr th {\n",
       "        vertical-align: top;\n",
       "    }\n",
       "\n",
       "    .dataframe thead th {\n",
       "        text-align: right;\n",
       "    }\n",
       "</style>\n",
       "<table border=\"1\" class=\"dataframe\">\n",
       "  <thead>\n",
       "    <tr style=\"text-align: right;\">\n",
       "      <th></th>\n",
       "      <th>ND</th>\n",
       "      <th>HFD</th>\n",
       "      <th>HFD+SAL</th>\n",
       "      <th>HFD+SANA</th>\n",
       "    </tr>\n",
       "  </thead>\n",
       "  <tbody>\n",
       "    <tr>\n",
       "      <th>0</th>\n",
       "      <td>11920.0</td>\n",
       "      <td>15810.0</td>\n",
       "      <td>14645.0</td>\n",
       "      <td>8000.0</td>\n",
       "    </tr>\n",
       "    <tr>\n",
       "      <th>1</th>\n",
       "      <td>12350.0</td>\n",
       "      <td>14084.0</td>\n",
       "      <td>13665.0</td>\n",
       "      <td>12594.0</td>\n",
       "    </tr>\n",
       "    <tr>\n",
       "      <th>2</th>\n",
       "      <td>8800.0</td>\n",
       "      <td>15295.0</td>\n",
       "      <td>14220.0</td>\n",
       "      <td>13040.0</td>\n",
       "    </tr>\n",
       "    <tr>\n",
       "      <th>3</th>\n",
       "      <td>13305.0</td>\n",
       "      <td>9204.0</td>\n",
       "      <td>12525.0</td>\n",
       "      <td>9525.0</td>\n",
       "    </tr>\n",
       "    <tr>\n",
       "      <th>4</th>\n",
       "      <td>8480.0</td>\n",
       "      <td>15235.0</td>\n",
       "      <td>13685.0</td>\n",
       "      <td>9555.0</td>\n",
       "    </tr>\n",
       "    <tr>\n",
       "      <th>5</th>\n",
       "      <td>8910.0</td>\n",
       "      <td>21215.0</td>\n",
       "      <td>14645.0</td>\n",
       "      <td>8000.0</td>\n",
       "    </tr>\n",
       "    <tr>\n",
       "      <th>6</th>\n",
       "      <td>9490.0</td>\n",
       "      <td>16550.0</td>\n",
       "      <td>12430.0</td>\n",
       "      <td>16305.0</td>\n",
       "    </tr>\n",
       "    <tr>\n",
       "      <th>7</th>\n",
       "      <td>11945.0</td>\n",
       "      <td>15800.0</td>\n",
       "      <td>16720.0</td>\n",
       "      <td>8315.0</td>\n",
       "    </tr>\n",
       "    <tr>\n",
       "      <th>8</th>\n",
       "      <td>12350.0</td>\n",
       "      <td>11535.0</td>\n",
       "      <td>15710.0</td>\n",
       "      <td>8966.0</td>\n",
       "    </tr>\n",
       "    <tr>\n",
       "      <th>9</th>\n",
       "      <td>NaN</td>\n",
       "      <td>NaN</td>\n",
       "      <td>21075.0</td>\n",
       "      <td>11485.0</td>\n",
       "    </tr>\n",
       "    <tr>\n",
       "      <th>10</th>\n",
       "      <td>NaN</td>\n",
       "      <td>NaN</td>\n",
       "      <td>19905.0</td>\n",
       "      <td>16525.0</td>\n",
       "    </tr>\n",
       "  </tbody>\n",
       "</table>\n",
       "</div>"
      ],
      "text/plain": [
       "         ND      HFD  HFD+SAL  HFD+SANA\n",
       "0   11920.0  15810.0  14645.0    8000.0\n",
       "1   12350.0  14084.0  13665.0   12594.0\n",
       "2    8800.0  15295.0  14220.0   13040.0\n",
       "3   13305.0   9204.0  12525.0    9525.0\n",
       "4    8480.0  15235.0  13685.0    9555.0\n",
       "5    8910.0  21215.0  14645.0    8000.0\n",
       "6    9490.0  16550.0  12430.0   16305.0\n",
       "7   11945.0  15800.0  16720.0    8315.0\n",
       "8   12350.0  11535.0  15710.0    8966.0\n",
       "9       NaN      NaN  21075.0   11485.0\n",
       "10      NaN      NaN  19905.0   16525.0"
      ]
     },
     "execution_count": 5,
     "metadata": {},
     "output_type": "execute_result"
    }
   ],
   "source": [
    "data_df"
   ]
  },
  {
   "cell_type": "code",
   "execution_count": 4,
   "id": "df783065",
   "metadata": {},
   "outputs": [
    {
     "data": {
      "text/plain": [
       "Index(['ND', 'HFD', 'HFD+SAL', 'HFD+SANA'], dtype='object')"
      ]
     },
     "execution_count": 4,
     "metadata": {},
     "output_type": "execute_result"
    }
   ],
   "source": [
    "data_df.columns"
   ]
  },
  {
   "cell_type": "code",
   "execution_count": 6,
   "id": "1050f6aa",
   "metadata": {},
   "outputs": [],
   "source": [
    "grp1, grp2, grp3, grp4 = data_df['ND'].dropna().values, \\\n",
    "data_df['HFD'].dropna().values, \\\n",
    "data_df['HFD+SAL'].dropna().values, \\\n",
    "data_df['HFD+SANA'].dropna().values"
   ]
  },
  {
   "cell_type": "code",
   "execution_count": 7,
   "id": "968218e8",
   "metadata": {},
   "outputs": [],
   "source": [
    "collect = [grp1, grp2, grp3, grp4]"
   ]
  },
  {
   "cell_type": "code",
   "execution_count": 8,
   "id": "52bb2db6",
   "metadata": {},
   "outputs": [],
   "source": [
    "def reorder_label(label):\n",
    "    if label[-2:] == 'ND':\n",
    "        return 'ND vs ' + label.split('vs')[0].strip()\n",
    "    else:\n",
    "        return label"
   ]
  },
  {
   "cell_type": "code",
   "execution_count": 9,
   "id": "e176e1d7",
   "metadata": {},
   "outputs": [
    {
     "name": "stdout",
     "output_type": "stream",
     "text": [
      "N samples: 40\n",
      "ANOVA:\n",
      "F(3, 36) = 7.213320657843011, p = 0.000652509270860716\n",
      "| Comparison          | Published p-value   |   Bonferroni p-value |   Tukey p-value |\n",
      "|:--------------------|:--------------------|---------------------:|----------------:|\n",
      "| HFD vs HFD+SAL      |                     |           1          |      0.988329   |\n",
      "| HFD vs HFD+SANA     |                     |           0.0974806  |      0.0248623  |\n",
      "| ND vs HFD           |                     |           0.0309115  |      0.0209937  |\n",
      "| HFD+SAL vs HFD+SANA |                     |           0.0194079  |      0.00683533 |\n",
      "| ND vs HFD+SAL       |                     |           0.00382032 |      0.00616317 |\n",
      "| ND vs HFD+SANA      |                     |           1          |      0.996307   |\n"
     ]
    }
   ],
   "source": [
    "for _ in [0]:\n",
    "\n",
    "    print('N samples: ' + str(len(np.concatenate(collect))))\n",
    "    print('ANOVA:')\n",
    "    f = scipy.stats.f_oneway(grp1, grp2, grp3, grp4)\n",
    "    print('F(3, ' + str(len(np.concatenate(collect))-4) + ') = ' + str(f.statistic) + ', p = ' + str(f.pvalue))\n",
    "\n",
    "    #print('Bonferroni:')\n",
    "    comp = multicomp.MultiComparison(data=np.concatenate(collect), \n",
    "                                      groups=np.concatenate([['ND']*len(grp1), \n",
    "                                                             ['HFD']*len(grp2), \n",
    "                                                             ['HFD+SAL']*len(grp3), \n",
    "                                                             ['HFD+SANA']*len(grp4)]))\n",
    "    tbl, a1, a2 = comp.allpairtest(scipy.stats.ttest_ind, method= \"bonf\", alpha=0.05)\n",
    "    bonf = pd.DataFrame(tbl)\n",
    "    bonf.columns = bonf.loc[0].astype(str)\n",
    "    bonf = bonf[1:]\n",
    "    bonf['pval_corr'] = a1[2]\n",
    "    bonf['g1'] = bonf['group1']\n",
    "    bonf['g2'] = bonf['group2']\n",
    "    bonf_df = bonf.copy()\n",
    "    bonf_df['Bonferroni p-value'] = bonf_df['pval_corr']\n",
    "    bonf_df['Comparison'] = bonf_df['g1'].astype(str) + ' vs ' + bonf_df['g2'].astype(str)\n",
    "    bonf_df['Comparison'] = bonf_df['Comparison'].apply(reorder_label)\n",
    "\n",
    "    #print('Tukey:')\n",
    "    tukey = scipy.stats.tukey_hsd(*collect).pvalue\n",
    "    tukey_df = pd.DataFrame({'g1':['ND', 'ND', 'ND', 'HFD', 'HFD', 'HFD+SAL'], \n",
    "     'g2':['HFD', 'HFD+SAL', 'HFD+SANA', 'HFD+SAL', 'HFD+SANA', 'HFD+SANA'],\n",
    "     'Tukey p-value':[tukey[0][1], tukey[0][2], tukey[0][3], tukey[1][2], tukey[1][3], tukey[2][3]]})\n",
    "    tukey_df['Comparison'] = tukey_df['g1'].astype(str) + ' vs ' + tukey_df['g2'].astype(str)\n",
    "\n",
    "    combo_df = pd.merge(bonf_df, tukey_df, on=['Comparison'], how='outer')\n",
    "    combo_df['Published p-value'] = ''\n",
    "    combo_df = combo_df[['Comparison', 'Published p-value', 'Bonferroni p-value', 'Tukey p-value']].set_index('Comparison')\n",
    "    print(combo_df.to_markdown())"
   ]
  },
  {
   "cell_type": "markdown",
   "id": "f0896337",
   "metadata": {},
   "source": [
    "Here is Figure 2G:\n",
    "\n",
    "![file](../img/pub_fig_2g.png)\n",
    "\n",
    "This is described as involving a one-way ANOVA followed by Bonferroni post-hoc. Using the [source data](https://www.nature.com/articles/s42255-025-01311-z#Sec38), we arrive at F(3, 36) = 7.21, p = 0.000653. However, the p-values shown for the post-hoc test are incorrect for Bonferroni post-hoc comparison (i.e., independent t-tests between groups and Bonferroni FWER correction on p-values for each pairwise test) and are a closer match for Tukey's post-hoc test (with one rounding error in the ND vs HFD+SANA comparison). See summary table below.\n",
    "\n",
    "| Comparison          | Published p-value   |   Bonferroni p-value |   Tukey p-value |\n",
    "|:--------------------|:--------------------|---------------------:|----------------:|\n",
    "| HFD vs HFD+SAL      |           0.99          |           1.00          |      0.988   |\n",
    "| HFD vs HFD+SANA     |               0.02      |           0.0975  |      0.0249  |\n",
    "| ND vs HFD           |            0.02         |           0.0309  |      0.0210  |\n",
    "| HFD+SAL vs HFD+SANA |             0.007        |           0.0194  |      0.00684 |\n",
    "| ND vs HFD+SAL       |              Not shown       |           0.00382 |      0.00616 |\n",
    "| ND vs HFD+SANA      |          0.997           |           1.00          |      0.996   |\n",
    "\n",
    "Could the authors clarify? \n",
    "\n",
    "The code for this analysis is available at [github.com/reeserich/cal_et_al_2025](https://github.com/reeserich/cal_et_al_2025)."
   ]
  },
  {
   "cell_type": "code",
   "execution_count": null,
   "id": "76e695f2",
   "metadata": {},
   "outputs": [],
   "source": []
  }
 ],
 "metadata": {
  "kernelspec": {
   "display_name": "Python 3 (ipykernel)",
   "language": "python",
   "name": "python3"
  },
  "language_info": {
   "codemirror_mode": {
    "name": "ipython",
    "version": 3
   },
   "file_extension": ".py",
   "mimetype": "text/x-python",
   "name": "python",
   "nbconvert_exporter": "python",
   "pygments_lexer": "ipython3",
   "version": "3.9.12"
  }
 },
 "nbformat": 4,
 "nbformat_minor": 5
}
