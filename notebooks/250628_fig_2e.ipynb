{
 "cells": [
  {
   "cell_type": "code",
   "execution_count": 11,
   "id": "62bf13f5",
   "metadata": {},
   "outputs": [],
   "source": [
    "import pandas as pd\n",
    "import numpy as np\n",
    "import scipy\n",
    "import matplotlib as mpl\n",
    "import matplotlib.pyplot as plt\n",
    "import seaborn as sns\n",
    "from statsmodels.stats.multitest import multipletests\n",
    "import statsmodels.stats.multicomp as multicomp"
   ]
  },
  {
   "cell_type": "code",
   "execution_count": 12,
   "id": "33dd2d24",
   "metadata": {},
   "outputs": [],
   "source": [
    "data_df = pd.read_excel('../data/42255_2025_1311_MOESM5_ESM.xlsx', sheet_name='2E')"
   ]
  },
  {
   "cell_type": "code",
   "execution_count": 13,
   "id": "a5090f3a",
   "metadata": {},
   "outputs": [
    {
     "data": {
      "text/html": [
       "<div>\n",
       "<style scoped>\n",
       "    .dataframe tbody tr th:only-of-type {\n",
       "        vertical-align: middle;\n",
       "    }\n",
       "\n",
       "    .dataframe tbody tr th {\n",
       "        vertical-align: top;\n",
       "    }\n",
       "\n",
       "    .dataframe thead th {\n",
       "        text-align: right;\n",
       "    }\n",
       "</style>\n",
       "<table border=\"1\" class=\"dataframe\">\n",
       "  <thead>\n",
       "    <tr style=\"text-align: right;\">\n",
       "      <th></th>\n",
       "      <th>ND</th>\n",
       "      <th>HFD</th>\n",
       "      <th>HFD+SAL.</th>\n",
       "      <th>HFD+SANA</th>\n",
       "    </tr>\n",
       "  </thead>\n",
       "  <tbody>\n",
       "    <tr>\n",
       "      <th>0</th>\n",
       "      <td>97.0</td>\n",
       "      <td>149.0</td>\n",
       "      <td>158.0</td>\n",
       "      <td>108.0</td>\n",
       "    </tr>\n",
       "    <tr>\n",
       "      <th>1</th>\n",
       "      <td>88.0</td>\n",
       "      <td>156.0</td>\n",
       "      <td>134.0</td>\n",
       "      <td>114.0</td>\n",
       "    </tr>\n",
       "    <tr>\n",
       "      <th>2</th>\n",
       "      <td>104.0</td>\n",
       "      <td>171.0</td>\n",
       "      <td>137.0</td>\n",
       "      <td>76.0</td>\n",
       "    </tr>\n",
       "    <tr>\n",
       "      <th>3</th>\n",
       "      <td>101.0</td>\n",
       "      <td>158.0</td>\n",
       "      <td>159.0</td>\n",
       "      <td>70.0</td>\n",
       "    </tr>\n",
       "    <tr>\n",
       "      <th>4</th>\n",
       "      <td>104.0</td>\n",
       "      <td>173.0</td>\n",
       "      <td>150.0</td>\n",
       "      <td>130.0</td>\n",
       "    </tr>\n",
       "    <tr>\n",
       "      <th>5</th>\n",
       "      <td>101.0</td>\n",
       "      <td>209.0</td>\n",
       "      <td>155.0</td>\n",
       "      <td>63.0</td>\n",
       "    </tr>\n",
       "    <tr>\n",
       "      <th>6</th>\n",
       "      <td>103.0</td>\n",
       "      <td>186.0</td>\n",
       "      <td>189.0</td>\n",
       "      <td>118.0</td>\n",
       "    </tr>\n",
       "    <tr>\n",
       "      <th>7</th>\n",
       "      <td>113.0</td>\n",
       "      <td>192.0</td>\n",
       "      <td>158.0</td>\n",
       "      <td>103.0</td>\n",
       "    </tr>\n",
       "    <tr>\n",
       "      <th>8</th>\n",
       "      <td>99.0</td>\n",
       "      <td>178.0</td>\n",
       "      <td>177.0</td>\n",
       "      <td>121.0</td>\n",
       "    </tr>\n",
       "    <tr>\n",
       "      <th>9</th>\n",
       "      <td>102.0</td>\n",
       "      <td>189.0</td>\n",
       "      <td>175.0</td>\n",
       "      <td>145.0</td>\n",
       "    </tr>\n",
       "  </tbody>\n",
       "</table>\n",
       "</div>"
      ],
      "text/plain": [
       "      ND    HFD  HFD+SAL.  HFD+SANA \n",
       "0   97.0  149.0     158.0      108.0\n",
       "1   88.0  156.0     134.0      114.0\n",
       "2  104.0  171.0     137.0       76.0\n",
       "3  101.0  158.0     159.0       70.0\n",
       "4  104.0  173.0     150.0      130.0\n",
       "5  101.0  209.0     155.0       63.0\n",
       "6  103.0  186.0     189.0      118.0\n",
       "7  113.0  192.0     158.0      103.0\n",
       "8   99.0  178.0     177.0      121.0\n",
       "9  102.0  189.0     175.0      145.0"
      ]
     },
     "execution_count": 13,
     "metadata": {},
     "output_type": "execute_result"
    }
   ],
   "source": [
    "data_df"
   ]
  },
  {
   "cell_type": "code",
   "execution_count": 14,
   "id": "61944c52",
   "metadata": {},
   "outputs": [
    {
     "data": {
      "text/plain": [
       "Index(['ND', 'HFD', 'HFD+SAL.', 'HFD+SANA '], dtype='object')"
      ]
     },
     "execution_count": 14,
     "metadata": {},
     "output_type": "execute_result"
    }
   ],
   "source": [
    "data_df.columns"
   ]
  },
  {
   "cell_type": "code",
   "execution_count": 15,
   "id": "c1408698",
   "metadata": {},
   "outputs": [],
   "source": [
    "grp1, grp2, grp3, grp4 = data_df['ND'].dropna().values, \\\n",
    "data_df['HFD'].dropna().values, \\\n",
    "data_df['HFD+SAL.'].dropna().values, \\\n",
    "data_df['HFD+SANA '].dropna().values"
   ]
  },
  {
   "cell_type": "code",
   "execution_count": 16,
   "id": "40cf720c",
   "metadata": {},
   "outputs": [],
   "source": [
    "collect = [grp1, grp2, grp3, grp4]"
   ]
  },
  {
   "cell_type": "code",
   "execution_count": 17,
   "id": "28486d0d",
   "metadata": {},
   "outputs": [],
   "source": [
    "def reorder_label(label):\n",
    "    if label[-2:] == 'ND':\n",
    "        return 'ND vs ' + label.split('vs')[0].strip()\n",
    "    else:\n",
    "        return label"
   ]
  },
  {
   "cell_type": "code",
   "execution_count": 10,
   "id": "cbdeb650",
   "metadata": {},
   "outputs": [
    {
     "name": "stdout",
     "output_type": "stream",
     "text": [
      "N samples: 40\n",
      "ANOVA:\n",
      "F(3, 36) = 40.833292720312514, p = 1.120145238250933e-11\n",
      "| Comparison          | Published p-value   |   Bonferroni p-value |   Tukey p-value |\n",
      "|:--------------------|:--------------------|---------------------:|----------------:|\n",
      "| HFD vs HFD+SAL      |                     |          0.296699    |     0.203163    |\n",
      "| HFD vs HFD+SANA     |                     |          1.18411e-05 |     2.47246e-09 |\n",
      "| ND vs HFD           |                     |          2.72389e-09 |     7.34025e-10 |\n",
      "| HFD+SAL vs HFD+SANA |                     |          0.000255797 |     9.60083e-07 |\n",
      "| ND vs HFD+SAL       |                     |          5.57464e-08 |     2.61851e-07 |\n",
      "| ND vs HFD+SANA      |                     |          1           |     0.97326     |\n"
     ]
    }
   ],
   "source": [
    "for _ in [0]:\n",
    "\n",
    "    print('N samples: ' + str(len(np.concatenate(collect))))\n",
    "    print('ANOVA:')\n",
    "    f = scipy.stats.f_oneway(grp1, grp2, grp3, grp4)\n",
    "    print('F(3, ' + str(len(np.concatenate(collect))-4) + ') = ' + str(f.statistic) + ', p = ' + str(f.pvalue))\n",
    "\n",
    "    #print('Bonferroni:')\n",
    "    comp = multicomp.MultiComparison(data=np.concatenate(collect), \n",
    "                                      groups=np.concatenate([['ND']*len(grp1), \n",
    "                                                             ['HFD']*len(grp2), \n",
    "                                                             ['HFD+SAL']*len(grp3), \n",
    "                                                             ['HFD+SANA']*len(grp4)]))\n",
    "    tbl, a1, a2 = comp.allpairtest(scipy.stats.ttest_ind, method= \"bonf\", alpha=0.05)\n",
    "    bonf = pd.DataFrame(tbl)\n",
    "    bonf.columns = bonf.loc[0].astype(str)\n",
    "    bonf = bonf[1:]\n",
    "    bonf['pval_corr'] = a1[2]\n",
    "    bonf['g1'] = bonf['group1']\n",
    "    bonf['g2'] = bonf['group2']\n",
    "    bonf_df = bonf.copy()\n",
    "    bonf_df['Bonferroni p-value'] = bonf_df['pval_corr']\n",
    "    bonf_df['Comparison'] = bonf_df['g1'].astype(str) + ' vs ' + bonf_df['g2'].astype(str)\n",
    "    bonf_df['Comparison'] = bonf_df['Comparison'].apply(reorder_label)\n",
    "\n",
    "    #print('Tukey:')\n",
    "    tukey = scipy.stats.tukey_hsd(*collect).pvalue\n",
    "    tukey_df = pd.DataFrame({'g1':['ND', 'ND', 'ND', 'HFD', 'HFD', 'HFD+SAL'], \n",
    "     'g2':['HFD', 'HFD+SAL', 'HFD+SANA', 'HFD+SAL', 'HFD+SANA', 'HFD+SANA'],\n",
    "     'Tukey p-value':[tukey[0][1], tukey[0][2], tukey[0][3], tukey[1][2], tukey[1][3], tukey[2][3]]})\n",
    "    tukey_df['Comparison'] = tukey_df['g1'].astype(str) + ' vs ' + tukey_df['g2'].astype(str)\n",
    "\n",
    "    combo_df = pd.merge(bonf_df, tukey_df, on=['Comparison'], how='outer')\n",
    "    combo_df['Published p-value'] = ''\n",
    "    combo_df = combo_df[['Comparison', 'Published p-value', 'Bonferroni p-value', 'Tukey p-value']].set_index('Comparison')\n",
    "    print(combo_df.to_markdown())"
   ]
  },
  {
   "cell_type": "markdown",
   "id": "5998e0ac",
   "metadata": {},
   "source": [
    "Here is Figure 2E:\n",
    "\n",
    "![file](../img/pub_fig_2e.png)\n",
    "\n",
    "This is described as involving a one-way ANOVA followed by Bonferroni post-hoc. Using the [source data](https://www.nature.com/articles/s42255-025-01311-z#Sec38), we arrive at F(3, 36) = 40.8, p = 1.12E-11. However, most of the p-values shown for the post-hoc test are incorrect both for Bonferroni post-hoc comparison (i.e., independent t-tests between groups and Bonferroni FWER correction on p-values for each pairwise test) and for Tukey's post-hoc test. See summary table below.\n",
    "\n",
    "| Comparison          | Published p-value   |   Bonferroni p-value |   Tukey p-value |\n",
    "|:--------------------|:--------------------|---------------------:|----------------:|\n",
    "| HFD vs HFD+SAL      |            0.20         |          0.297    |     0.203    |\n",
    "| HFD vs HFD+SANA     |                0.0006     |          1.18E-5 |     2.47E-9 |\n",
    "| ND vs HFD           |           0.0008          |          2.72E-9 |     7.34E-10 |\n",
    "| HFD+SAL vs HFD+SANA |         0.0007            |          0.000256 |     9.60E-7 |\n",
    "| ND vs HFD+SAL       |              Not shown       |          5.57E-8 |     2.62E-7 |\n",
    "| ND vs HFD+SANA      |             0.97        |          1.00           |     0.973     |\n",
    "\n",
    "Could the authors clarify? \n",
    "\n",
    "The code for this analysis is available at [github.com/reeserich/cal_et_al_2025](https://github.com/reeserich/cal_et_al_2025)."
   ]
  },
  {
   "cell_type": "code",
   "execution_count": null,
   "id": "9e96b5ca",
   "metadata": {},
   "outputs": [],
   "source": []
  }
 ],
 "metadata": {
  "kernelspec": {
   "display_name": "Python 3 (ipykernel)",
   "language": "python",
   "name": "python3"
  },
  "language_info": {
   "codemirror_mode": {
    "name": "ipython",
    "version": 3
   },
   "file_extension": ".py",
   "mimetype": "text/x-python",
   "name": "python",
   "nbconvert_exporter": "python",
   "pygments_lexer": "ipython3",
   "version": "3.9.12"
  }
 },
 "nbformat": 4,
 "nbformat_minor": 5
}
