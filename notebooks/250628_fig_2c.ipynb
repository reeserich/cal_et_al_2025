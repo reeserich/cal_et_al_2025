{
 "cells": [
  {
   "cell_type": "code",
   "execution_count": 1,
   "id": "39a7d924",
   "metadata": {},
   "outputs": [],
   "source": [
    "import pandas as pd\n",
    "import numpy as np\n",
    "import scipy\n",
    "import matplotlib as mpl\n",
    "import matplotlib.pyplot as plt\n",
    "import seaborn as sns\n",
    "from statsmodels.stats.multitest import multipletests\n",
    "import statsmodels.stats.multicomp as multicomp"
   ]
  },
  {
   "cell_type": "code",
   "execution_count": 4,
   "id": "9ced9ebd",
   "metadata": {},
   "outputs": [],
   "source": [
    "data_df = pd.read_excel('../data/42255_2025_1311_MOESM5_ESM.xlsx', sheet_name='2C')"
   ]
  },
  {
   "cell_type": "code",
   "execution_count": 10,
   "id": "9a8b6d4f",
   "metadata": {},
   "outputs": [
    {
     "data": {
      "text/plain": [
       "Index(['ND', 'HFD', 'HFD+SAL ', 'HFD+SANA '], dtype='object')"
      ]
     },
     "execution_count": 10,
     "metadata": {},
     "output_type": "execute_result"
    }
   ],
   "source": [
    "data_df.columns"
   ]
  },
  {
   "cell_type": "code",
   "execution_count": 11,
   "id": "da6eae20",
   "metadata": {},
   "outputs": [],
   "source": [
    "grp1, grp2, grp3, grp4 = data_df['ND'].dropna().values, \\\n",
    "data_df['HFD'].dropna().values, \\\n",
    "data_df['HFD+SAL '].dropna().values, \\\n",
    "data_df['HFD+SANA '].dropna().values"
   ]
  },
  {
   "cell_type": "code",
   "execution_count": 15,
   "id": "e3af415a",
   "metadata": {},
   "outputs": [],
   "source": [
    "collect = [grp1, grp2, grp3, grp4]"
   ]
  },
  {
   "cell_type": "code",
   "execution_count": 28,
   "id": "aac02c15",
   "metadata": {},
   "outputs": [],
   "source": [
    "def reorder_label(label):\n",
    "    if label[-2:] == 'ND':\n",
    "        return 'ND vs ' + label.split('vs')[0].strip()\n",
    "    else:\n",
    "        return label"
   ]
  },
  {
   "cell_type": "code",
   "execution_count": 36,
   "id": "f4ae9961",
   "metadata": {},
   "outputs": [
    {
     "name": "stdout",
     "output_type": "stream",
     "text": [
      "N samples: 45\n",
      "ANOVA:\n",
      "F(3, 41) = 10.409125673977996, p = 3.202301065084262e-05\n",
      "| Comparison          | Published p-value   |   Bonferroni p-value |   Tukey p-value |\n",
      "|:--------------------|:--------------------|---------------------:|----------------:|\n",
      "| HFD vs HFD+SAL      |                     |          1           |     0.355918    |\n",
      "| HFD vs HFD+SANA     |                     |          0.000654853 |     2.73412e-05 |\n",
      "| ND vs HFD           |                     |          0.030796    |     0.00946174  |\n",
      "| HFD+SAL vs HFD+SANA |                     |          0.00381308  |     0.00271201  |\n",
      "| ND vs HFD+SAL       |                     |          0.359079    |     0.294993    |\n",
      "| ND vs HFD+SANA      |                     |          0.0499569   |     0.238884    |\n"
     ]
    }
   ],
   "source": [
    "for _ in [0]:\n",
    "\n",
    "    print('N samples: ' + str(len(np.concatenate(collect))))\n",
    "    print('ANOVA:')\n",
    "    f = scipy.stats.f_oneway(grp1, grp2, grp3, grp4)\n",
    "    print('F(3, ' + str(len(np.concatenate(collect))-4) + ') = ' + str(f.statistic) + ', p = ' + str(f.pvalue))\n",
    "\n",
    "    #print('Bonferroni:')\n",
    "    comp = multicomp.MultiComparison(data=np.concatenate(collect), \n",
    "                                      groups=np.concatenate([['ND']*len(grp1), \n",
    "                                                             ['HFD']*len(grp2), \n",
    "                                                             ['HFD+SAL']*len(grp3), \n",
    "                                                             ['HFD+SANA']*len(grp4)]))\n",
    "    tbl, a1, a2 = comp.allpairtest(scipy.stats.ttest_ind, method= \"bonf\", alpha=0.05)\n",
    "    bonf = pd.DataFrame(tbl)\n",
    "    bonf.columns = bonf.loc[0].astype(str)\n",
    "    bonf = bonf[1:]\n",
    "    bonf['pval_corr'] = a1[2]\n",
    "    bonf['g1'] = bonf['group1']\n",
    "    bonf['g2'] = bonf['group2']\n",
    "    bonf_df = bonf.copy()\n",
    "    bonf_df['Bonferroni p-value'] = bonf_df['pval_corr']\n",
    "    bonf_df['Comparison'] = bonf_df['g1'].astype(str) + ' vs ' + bonf_df['g2'].astype(str)\n",
    "    bonf_df['Comparison'] = bonf_df['Comparison'].apply(reorder_label)\n",
    "\n",
    "    #print('Tukey:')\n",
    "    tukey = scipy.stats.tukey_hsd(*collect).pvalue\n",
    "    tukey_df = pd.DataFrame({'g1':['ND', 'ND', 'ND', 'HFD', 'HFD', 'HFD+SAL'], \n",
    "     'g2':['HFD', 'HFD+SAL', 'HFD+SANA', 'HFD+SAL', 'HFD+SANA', 'HFD+SANA'],\n",
    "     'Tukey p-value':[tukey[0][1], tukey[0][2], tukey[0][3], tukey[1][2], tukey[1][3], tukey[2][3]]})\n",
    "    tukey_df['Comparison'] = tukey_df['g1'].astype(str) + ' vs ' + tukey_df['g2'].astype(str)\n",
    "\n",
    "    combo_df = pd.merge(bonf_df, tukey_df, on=['Comparison'], how='outer')\n",
    "    combo_df['Published p-value'] = ''\n",
    "    combo_df = combo_df[['Comparison', 'Published p-value', 'Bonferroni p-value', 'Tukey p-value']].set_index('Comparison')\n",
    "    print(combo_df.to_markdown())"
   ]
  },
  {
   "cell_type": "code",
   "execution_count": 38,
   "id": "e172201e",
   "metadata": {},
   "outputs": [
    {
     "data": {
      "text/html": [
       "<table class=\"simpletable\">\n",
       "<caption>Test Multiple Comparison ttest_ind \n",
       "FWER=0.05 method=bonf\n",
       "alphacSidak=0.01, alphacBonf=0.008</caption>\n",
       "<tr>\n",
       "   <th>group1</th>   <th>group2</th>   <th>stat</th>    <th>pval</th>  <th>pval_corr</th> <th>reject</th>\n",
       "</tr>\n",
       "<tr>\n",
       "     <td>HFD</td>    <td>HFD+SAL</td> <td>1.3159</td>  <td>0.2031</td>    <td>1.0</td>     <td>False</td>\n",
       "</tr>\n",
       "<tr>\n",
       "     <td>HFD</td>   <td>HFD+SANA</td> <td>4.7995</td>  <td>0.0001</td>  <td>0.0007</td>    <td>True</td> \n",
       "</tr>\n",
       "<tr>\n",
       "     <td>HFD</td>      <td>ND</td>     <td>3.162</td>  <td>0.0051</td>  <td>0.0308</td>    <td>True</td> \n",
       "</tr>\n",
       "<tr>\n",
       "   <td>HFD+SAL</td> <td>HFD+SANA</td> <td>3.9785</td>  <td>0.0006</td>  <td>0.0038</td>    <td>True</td> \n",
       "</tr>\n",
       "<tr>\n",
       "   <td>HFD+SAL</td>    <td>ND</td>    <td>1.9893</td>  <td>0.0598</td>  <td>0.3591</td>    <td>False</td>\n",
       "</tr>\n",
       "<tr>\n",
       "  <td>HFD+SANA</td>    <td>ND</td>    <td>-2.9125</td> <td>0.0083</td>   <td>0.05</td>     <td>True</td> \n",
       "</tr>\n",
       "</table>"
      ],
      "text/plain": [
       "<class 'statsmodels.iolib.table.SimpleTable'>"
      ]
     },
     "execution_count": 38,
     "metadata": {},
     "output_type": "execute_result"
    }
   ],
   "source": [
    "tbl"
   ]
  },
  {
   "cell_type": "code",
   "execution_count": 19,
   "id": "e2a87b9f",
   "metadata": {},
   "outputs": [
    {
     "data": {
      "text/plain": [
       "('ND', 'HFD', 'HFD+SAL', 'HFD+SANA')"
      ]
     },
     "execution_count": 19,
     "metadata": {},
     "output_type": "execute_result"
    }
   ],
   "source": [
    "'ND', 'HFD', 'HFD+SAL', 'HFD+SANA'"
   ]
  },
  {
   "cell_type": "markdown",
   "id": "a6d7f538",
   "metadata": {},
   "source": [
    "Here is Figure 2C:\n",
    "\n",
    "![file](../img/pub_fig_2c.png)\n",
    "\n",
    "This is described as involving a one-way ANOVA followed by Bonferroni post-hoc. Using the [source data](https://www.nature.com/articles/s42255-025-01311-z#Sec38) for this figure, we arrive at F(3, 41) = 10.4, p = 3.20E-5. This implies that there was no significant difference between means. However, the p-values for the post-hoc test appear to be taken selectively from both Bonferroni post-hoc comparisons (i.e., independent t-tests between groups and Bonferroni FWER correction on p-values for each pairwise test) and from Tukey's post-hoc test.\n",
    "\n",
    "| Comparison          | Published p-value   |   Bonferroni p-value |   Tukey p-value | Matches which? |\n",
    "|:--------------------|:--------------------|---------------------:|----------------:|----:|\n",
    "| HFD vs HFD+SAL      |           0.36          |          1.00           |     0.356    | Tukey |\n",
    "| HFD vs HFD+SANA     |            0.0006         |          0.000655 |     2.73e-05 | Bonferroni |\n",
    "| ND vs HFD           |               0.009      |          0.0308    |     0.00946  | Tukey |\n",
    "| HFD+SAL vs HFD+SANA |            0.003         |          0.00381  |     0.00271  | Tukey |\n",
    "| ND vs HFD+SAL       |            Not shown         |          0.359    |     0.295    | - |\n",
    "| ND vs HFD+SANA      |            0.24         |          0.0500   |     0.239    | Tukey |\n",
    "\n",
    "Could the authors clarify? \n",
    "\n",
    "The code for this analysis is available at [github.com/reeserich/cal_et_al_2025](https://github.com/reeserich/cal_et_al_2025)."
   ]
  },
  {
   "cell_type": "code",
   "execution_count": 37,
   "id": "6c643ffa",
   "metadata": {},
   "outputs": [
    {
     "name": "stdout",
     "output_type": "stream",
     "text": [
      "4.238545454545454\n",
      "5.4565\n",
      "4.8613333333333335\n",
      "3.5714166666666665\n"
     ]
    }
   ],
   "source": [
    "for grp in collect:\n",
    "    print(np.mean(grp))"
   ]
  },
  {
   "cell_type": "code",
   "execution_count": null,
   "id": "703074b7",
   "metadata": {},
   "outputs": [],
   "source": []
  }
 ],
 "metadata": {
  "kernelspec": {
   "display_name": "Python 3 (ipykernel)",
   "language": "python",
   "name": "python3"
  },
  "language_info": {
   "codemirror_mode": {
    "name": "ipython",
    "version": 3
   },
   "file_extension": ".py",
   "mimetype": "text/x-python",
   "name": "python",
   "nbconvert_exporter": "python",
   "pygments_lexer": "ipython3",
   "version": "3.9.12"
  }
 },
 "nbformat": 4,
 "nbformat_minor": 5
}
